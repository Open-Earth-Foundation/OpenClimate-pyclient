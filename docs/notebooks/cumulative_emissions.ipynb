{
 "cells": [
  {
   "cell_type": "markdown",
   "id": "a8aeac11-0634-4829-83a3-86d2b0b61c1b",
   "metadata": {},
   "source": [
    "# Cumulative emissions\n",
    "\n",
    "This example will walk through calculating and visulaizing cumulative emissions. "
   ]
  },
  {
   "cell_type": "code",
   "execution_count": 1,
   "id": "c3b84d89-5854-449e-9b54-904e94a7df26",
   "metadata": {},
   "outputs": [],
   "source": [
    "from itertools import cycle\n",
    "import matplotlib.pyplot as plt\n",
    "from matplotlib.ticker import AutoMinorLocator\n",
    "from openclimate import Client\n",
    "import numpy as np\n",
    "import pandas as pd"
   ]
  },
  {
   "cell_type": "markdown",
   "id": "5c172b12-5e1e-49bf-bed4-dba84f6693e9",
   "metadata": {},
   "source": [
    "We will first initialize a `Client()` object."
   ]
  },
  {
   "cell_type": "code",
   "execution_count": 2,
   "id": "537c79ec-43d3-4f14-83ed-f94ae1f7c5f2",
   "metadata": {},
   "outputs": [],
   "source": [
    "client = Client()"
   ]
  },
  {
   "cell_type": "markdown",
   "id": "6bed1464-129b-43b0-b65e-39528fd4152c",
   "metadata": {},
   "source": [
    "If you are using a jupyter enviornment, you will need to first `client.jupyter`. \n",
    "This patches the `asyncio` library to work in Jupyter envionrments using [nest-asyncio](https://pypi.org/project/nest-asyncio/)."
   ]
  },
  {
   "cell_type": "code",
   "execution_count": 3,
   "id": "ca3c7afd-2d6a-4861-a147-bc7b123468d0",
   "metadata": {},
   "outputs": [],
   "source": [
    "client.jupyter"
   ]
  },
  {
   "cell_type": "markdown",
   "id": "08fbf102-9ce8-4671-b692-535129ef129d",
   "metadata": {},
   "source": [
    "## Get country codes \n",
    "\n",
    "OpenClimate references each country by its two-letter [ISO-3166](https://www.iso.org/iso-3166-country-codes.html) code.\n",
    "To access this in `openclimate` we can use the `.parts()` method to get all the \"parts\" of EARTH. Other codes we use are [UN/LOCODEs](https://unece.org/trade/cefact/unlocode-code-list-country-and-territory) for cities and [LEI](https://www.gleif.org/en/about-lei/introducing-the-legal-entity-identifier-lei) for companies. As a catch-all term, we call them an `actor_id`."
   ]
  },
  {
   "cell_type": "code",
   "execution_count": 4,
   "id": "bca58af4-bc20-4aee-80af-78d8abd53e63",
   "metadata": {},
   "outputs": [],
   "source": [
    "df_country = client.parts('EARTH')"
   ]
  },
  {
   "cell_type": "markdown",
   "id": "2a4f72a5-f8b2-4c6e-8f9e-e2332066d20e",
   "metadata": {},
   "source": [
    "Looking at the dataframe that's returned, we have a column with each country's `actor_id`. "
   ]
  },
  {
   "cell_type": "code",
   "execution_count": 5,
   "id": "dd550cfa-702a-44ff-b6d2-c965d23c166f",
   "metadata": {},
   "outputs": [
    {
     "data": {
      "text/html": [
       "<div>\n",
       "<style scoped>\n",
       "    .dataframe tbody tr th:only-of-type {\n",
       "        vertical-align: middle;\n",
       "    }\n",
       "\n",
       "    .dataframe tbody tr th {\n",
       "        vertical-align: top;\n",
       "    }\n",
       "\n",
       "    .dataframe thead th {\n",
       "        text-align: right;\n",
       "    }\n",
       "</style>\n",
       "<table border=\"1\" class=\"dataframe\">\n",
       "  <thead>\n",
       "    <tr style=\"text-align: right;\">\n",
       "      <th></th>\n",
       "      <th>actor_id</th>\n",
       "      <th>name</th>\n",
       "      <th>type</th>\n",
       "      <th>has_data</th>\n",
       "      <th>has_children</th>\n",
       "      <th>children_have_data</th>\n",
       "    </tr>\n",
       "  </thead>\n",
       "  <tbody>\n",
       "    <tr>\n",
       "      <th>5</th>\n",
       "      <td>AD</td>\n",
       "      <td>Andorra</td>\n",
       "      <td>country</td>\n",
       "      <td>True</td>\n",
       "      <td>None</td>\n",
       "      <td>None</td>\n",
       "    </tr>\n",
       "    <tr>\n",
       "      <th>234</th>\n",
       "      <td>AE</td>\n",
       "      <td>United Arab Emirates</td>\n",
       "      <td>country</td>\n",
       "      <td>True</td>\n",
       "      <td>None</td>\n",
       "      <td>None</td>\n",
       "    </tr>\n",
       "    <tr>\n",
       "      <th>0</th>\n",
       "      <td>AF</td>\n",
       "      <td>Afghanistan</td>\n",
       "      <td>country</td>\n",
       "      <td>True</td>\n",
       "      <td>None</td>\n",
       "      <td>None</td>\n",
       "    </tr>\n",
       "    <tr>\n",
       "      <th>9</th>\n",
       "      <td>AG</td>\n",
       "      <td>Antigua and Barbuda</td>\n",
       "      <td>country</td>\n",
       "      <td>True</td>\n",
       "      <td>None</td>\n",
       "      <td>None</td>\n",
       "    </tr>\n",
       "    <tr>\n",
       "      <th>7</th>\n",
       "      <td>AI</td>\n",
       "      <td>Anguilla</td>\n",
       "      <td>country</td>\n",
       "      <td>True</td>\n",
       "      <td>None</td>\n",
       "      <td>None</td>\n",
       "    </tr>\n",
       "  </tbody>\n",
       "</table>\n",
       "</div>"
      ],
      "text/plain": [
       "    actor_id                  name     type  has_data has_children  \\\n",
       "5         AD               Andorra  country      True         None   \n",
       "234       AE  United Arab Emirates  country      True         None   \n",
       "0         AF           Afghanistan  country      True         None   \n",
       "9         AG   Antigua and Barbuda  country      True         None   \n",
       "7         AI              Anguilla  country      True         None   \n",
       "\n",
       "    children_have_data  \n",
       "5                 None  \n",
       "234               None  \n",
       "0                 None  \n",
       "9                 None  \n",
       "7                 None  "
      ]
     },
     "execution_count": 5,
     "metadata": {},
     "output_type": "execute_result"
    }
   ],
   "source": [
    "df_country.head()"
   ]
  },
  {
   "cell_type": "markdown",
   "id": "3f0691f6-a50b-4a25-88a2-24f290b74147",
   "metadata": {},
   "source": [
    "Let's save just the `actor_id` to a list "
   ]
  },
  {
   "cell_type": "code",
   "execution_count": 6,
   "id": "31a37d06-b76d-4976-b306-bcce646a4aee",
   "metadata": {},
   "outputs": [],
   "source": [
    "iso_and_name = list(zip(df_country['actor_id'], df_country['name']))"
   ]
  },
  {
   "cell_type": "markdown",
   "id": "3e9b384c-3176-43fe-a7f1-d4f1626d869c",
   "metadata": {},
   "source": [
    "## Which datasets are available?\n",
    "\n",
    "To get a list of datasets available for an actor you can use the `.emissions_datasets()` method.\n",
    "Here I am asking for datasets with Candian emissions."
   ]
  },
  {
   "cell_type": "code",
   "execution_count": 7,
   "id": "6ef2d090-7ca7-46f4-bc0c-5e90f355e0ab",
   "metadata": {},
   "outputs": [
    {
     "data": {
      "text/html": [
       "<div>\n",
       "<style scoped>\n",
       "    .dataframe tbody tr th:only-of-type {\n",
       "        vertical-align: middle;\n",
       "    }\n",
       "\n",
       "    .dataframe tbody tr th {\n",
       "        vertical-align: top;\n",
       "    }\n",
       "\n",
       "    .dataframe thead th {\n",
       "        text-align: right;\n",
       "    }\n",
       "</style>\n",
       "<table border=\"1\" class=\"dataframe\">\n",
       "  <thead>\n",
       "    <tr style=\"text-align: right;\">\n",
       "      <th></th>\n",
       "      <th>actor_id</th>\n",
       "      <th>datasource_id</th>\n",
       "      <th>name</th>\n",
       "      <th>publisher</th>\n",
       "      <th>published</th>\n",
       "      <th>URL</th>\n",
       "    </tr>\n",
       "  </thead>\n",
       "  <tbody>\n",
       "    <tr>\n",
       "      <th>0</th>\n",
       "      <td>CA</td>\n",
       "      <td>BP:statistical_review_june2022</td>\n",
       "      <td>Statistical Review of World Energy all data, 1...</td>\n",
       "      <td>BP</td>\n",
       "      <td>2022-06-01T00:00:00.000Z</td>\n",
       "      <td>https://www.bp.com/en/global/corporate/energy-...</td>\n",
       "    </tr>\n",
       "    <tr>\n",
       "      <th>1</th>\n",
       "      <td>CA</td>\n",
       "      <td>EDGARv7.0:ghg</td>\n",
       "      <td>Emissions Database for Global Atmospheric Rese...</td>\n",
       "      <td>JRC</td>\n",
       "      <td>2022-01-01T00:00:00.000Z</td>\n",
       "      <td>https://edgar.jrc.ec.europa.eu/dataset_ghg70</td>\n",
       "    </tr>\n",
       "    <tr>\n",
       "      <th>2</th>\n",
       "      <td>CA</td>\n",
       "      <td>GCB2022:national_fossil_emissions:v1.0</td>\n",
       "      <td>Data supplement to the Global Carbon Budget 20...</td>\n",
       "      <td>GCP</td>\n",
       "      <td>2022-11-04T00:00:00.000Z</td>\n",
       "      <td>https://www.icos-cp.eu/science-and-impact/glob...</td>\n",
       "    </tr>\n",
       "    <tr>\n",
       "      <th>3</th>\n",
       "      <td>CA</td>\n",
       "      <td>PRIMAP:10.5281/zenodo.7179775:v2.4</td>\n",
       "      <td>PRIMAP-hist_v2.4_no_extrap (scenario=HISTCR)</td>\n",
       "      <td>PRIMAP</td>\n",
       "      <td>2022-10-17T00:00:00.000Z</td>\n",
       "      <td>https://zenodo.org/record/7179775</td>\n",
       "    </tr>\n",
       "    <tr>\n",
       "      <th>4</th>\n",
       "      <td>CA</td>\n",
       "      <td>UNFCCC:GHG_ANNEX1:2019-11-08</td>\n",
       "      <td>UNFCCC GHG total without LULUCF, ANNEX I count...</td>\n",
       "      <td>UNFCCC</td>\n",
       "      <td>2019-11-08T00:00:00.000Z</td>\n",
       "      <td>https://di.unfccc.int/time_series</td>\n",
       "    </tr>\n",
       "    <tr>\n",
       "      <th>5</th>\n",
       "      <td>CA</td>\n",
       "      <td>climateTRACE:country_inventory</td>\n",
       "      <td>climate TRACE: country inventory</td>\n",
       "      <td>climate TRACE</td>\n",
       "      <td>2022-12-02T00:00:00.000Z</td>\n",
       "      <td>https://climatetrace.org/inventory</td>\n",
       "    </tr>\n",
       "    <tr>\n",
       "      <th>6</th>\n",
       "      <td>CA</td>\n",
       "      <td>WRI:climate_watch_historical_ghg:2022</td>\n",
       "      <td>Climate Watch Historical GHG Emissions</td>\n",
       "      <td>WRI</td>\n",
       "      <td>2022-01-01T00:00:00.000Z</td>\n",
       "      <td>https://www.climatewatchdata.org/ghg-emissions</td>\n",
       "    </tr>\n",
       "    <tr>\n",
       "      <th>7</th>\n",
       "      <td>CA</td>\n",
       "      <td>IEA:GHG_energy_highlights:2022</td>\n",
       "      <td>Greenhouse Gas Emissions from Energy Highlights</td>\n",
       "      <td>IEA</td>\n",
       "      <td>2022-09-01T00:00:00.000Z</td>\n",
       "      <td>https://www.iea.org/data-and-statistics/data-p...</td>\n",
       "    </tr>\n",
       "  </tbody>\n",
       "</table>\n",
       "</div>"
      ],
      "text/plain": [
       "  actor_id                           datasource_id  \\\n",
       "0       CA          BP:statistical_review_june2022   \n",
       "1       CA                           EDGARv7.0:ghg   \n",
       "2       CA  GCB2022:national_fossil_emissions:v1.0   \n",
       "3       CA      PRIMAP:10.5281/zenodo.7179775:v2.4   \n",
       "4       CA            UNFCCC:GHG_ANNEX1:2019-11-08   \n",
       "5       CA          climateTRACE:country_inventory   \n",
       "6       CA   WRI:climate_watch_historical_ghg:2022   \n",
       "7       CA          IEA:GHG_energy_highlights:2022   \n",
       "\n",
       "                                                name      publisher  \\\n",
       "0  Statistical Review of World Energy all data, 1...             BP   \n",
       "1  Emissions Database for Global Atmospheric Rese...            JRC   \n",
       "2  Data supplement to the Global Carbon Budget 20...            GCP   \n",
       "3       PRIMAP-hist_v2.4_no_extrap (scenario=HISTCR)         PRIMAP   \n",
       "4  UNFCCC GHG total without LULUCF, ANNEX I count...         UNFCCC   \n",
       "5                   climate TRACE: country inventory  climate TRACE   \n",
       "6             Climate Watch Historical GHG Emissions            WRI   \n",
       "7    Greenhouse Gas Emissions from Energy Highlights            IEA   \n",
       "\n",
       "                  published                                                URL  \n",
       "0  2022-06-01T00:00:00.000Z  https://www.bp.com/en/global/corporate/energy-...  \n",
       "1  2022-01-01T00:00:00.000Z       https://edgar.jrc.ec.europa.eu/dataset_ghg70  \n",
       "2  2022-11-04T00:00:00.000Z  https://www.icos-cp.eu/science-and-impact/glob...  \n",
       "3  2022-10-17T00:00:00.000Z                  https://zenodo.org/record/7179775  \n",
       "4  2019-11-08T00:00:00.000Z                  https://di.unfccc.int/time_series  \n",
       "5  2022-12-02T00:00:00.000Z                 https://climatetrace.org/inventory  \n",
       "6  2022-01-01T00:00:00.000Z     https://www.climatewatchdata.org/ghg-emissions  \n",
       "7  2022-09-01T00:00:00.000Z  https://www.iea.org/data-and-statistics/data-p...  "
      ]
     },
     "execution_count": 7,
     "metadata": {},
     "output_type": "execute_result"
    }
   ],
   "source": [
    "client.emissions_datasets('CA')"
   ]
  },
  {
   "cell_type": "markdown",
   "id": "bab4b30a-ecca-4788-81b5-a49aa2c86b67",
   "metadata": {},
   "source": [
    "You can return datasets for multiple actors at once by passing them as a callable, such as a list or tuple. Here I am asking for Canadian and Italian emission datasets, but only returning a sample of 5 records."
   ]
  },
  {
   "cell_type": "code",
   "execution_count": 8,
   "id": "2aef95c2-f5c8-4549-ade9-282b8cac11a3",
   "metadata": {},
   "outputs": [
    {
     "data": {
      "text/html": [
       "<div>\n",
       "<style scoped>\n",
       "    .dataframe tbody tr th:only-of-type {\n",
       "        vertical-align: middle;\n",
       "    }\n",
       "\n",
       "    .dataframe tbody tr th {\n",
       "        vertical-align: top;\n",
       "    }\n",
       "\n",
       "    .dataframe thead th {\n",
       "        text-align: right;\n",
       "    }\n",
       "</style>\n",
       "<table border=\"1\" class=\"dataframe\">\n",
       "  <thead>\n",
       "    <tr style=\"text-align: right;\">\n",
       "      <th></th>\n",
       "      <th>actor_id</th>\n",
       "      <th>datasource_id</th>\n",
       "      <th>name</th>\n",
       "      <th>publisher</th>\n",
       "      <th>published</th>\n",
       "      <th>URL</th>\n",
       "    </tr>\n",
       "  </thead>\n",
       "  <tbody>\n",
       "    <tr>\n",
       "      <th>10</th>\n",
       "      <td>IT</td>\n",
       "      <td>GCB2022:national_fossil_emissions:v1.0</td>\n",
       "      <td>Data supplement to the Global Carbon Budget 20...</td>\n",
       "      <td>GCP</td>\n",
       "      <td>2022-11-04T00:00:00.000Z</td>\n",
       "      <td>https://www.icos-cp.eu/science-and-impact/glob...</td>\n",
       "    </tr>\n",
       "    <tr>\n",
       "      <th>13</th>\n",
       "      <td>IT</td>\n",
       "      <td>carbon_monitor:2022_12_14</td>\n",
       "      <td>Carbon Monitor country CO2 emissions by sector</td>\n",
       "      <td>Carbon Monitor</td>\n",
       "      <td>2022-12-14T00:00:00.000Z</td>\n",
       "      <td>https://carbonmonitor.org/</td>\n",
       "    </tr>\n",
       "    <tr>\n",
       "      <th>1</th>\n",
       "      <td>CA</td>\n",
       "      <td>EDGARv7.0:ghg</td>\n",
       "      <td>Emissions Database for Global Atmospheric Rese...</td>\n",
       "      <td>JRC</td>\n",
       "      <td>2022-01-01T00:00:00.000Z</td>\n",
       "      <td>https://edgar.jrc.ec.europa.eu/dataset_ghg70</td>\n",
       "    </tr>\n",
       "    <tr>\n",
       "      <th>5</th>\n",
       "      <td>CA</td>\n",
       "      <td>climateTRACE:country_inventory</td>\n",
       "      <td>climate TRACE: country inventory</td>\n",
       "      <td>climate TRACE</td>\n",
       "      <td>2022-12-02T00:00:00.000Z</td>\n",
       "      <td>https://climatetrace.org/inventory</td>\n",
       "    </tr>\n",
       "    <tr>\n",
       "      <th>15</th>\n",
       "      <td>IT</td>\n",
       "      <td>WRI:climate_watch_historical_ghg:2022</td>\n",
       "      <td>Climate Watch Historical GHG Emissions</td>\n",
       "      <td>WRI</td>\n",
       "      <td>2022-01-01T00:00:00.000Z</td>\n",
       "      <td>https://www.climatewatchdata.org/ghg-emissions</td>\n",
       "    </tr>\n",
       "  </tbody>\n",
       "</table>\n",
       "</div>"
      ],
      "text/plain": [
       "   actor_id                           datasource_id  \\\n",
       "10       IT  GCB2022:national_fossil_emissions:v1.0   \n",
       "13       IT               carbon_monitor:2022_12_14   \n",
       "1        CA                           EDGARv7.0:ghg   \n",
       "5        CA          climateTRACE:country_inventory   \n",
       "15       IT   WRI:climate_watch_historical_ghg:2022   \n",
       "\n",
       "                                                 name       publisher  \\\n",
       "10  Data supplement to the Global Carbon Budget 20...             GCP   \n",
       "13     Carbon Monitor country CO2 emissions by sector  Carbon Monitor   \n",
       "1   Emissions Database for Global Atmospheric Rese...             JRC   \n",
       "5                    climate TRACE: country inventory   climate TRACE   \n",
       "15             Climate Watch Historical GHG Emissions             WRI   \n",
       "\n",
       "                   published  \\\n",
       "10  2022-11-04T00:00:00.000Z   \n",
       "13  2022-12-14T00:00:00.000Z   \n",
       "1   2022-01-01T00:00:00.000Z   \n",
       "5   2022-12-02T00:00:00.000Z   \n",
       "15  2022-01-01T00:00:00.000Z   \n",
       "\n",
       "                                                  URL  \n",
       "10  https://www.icos-cp.eu/science-and-impact/glob...  \n",
       "13                         https://carbonmonitor.org/  \n",
       "1        https://edgar.jrc.ec.europa.eu/dataset_ghg70  \n",
       "5                  https://climatetrace.org/inventory  \n",
       "15     https://www.climatewatchdata.org/ghg-emissions  "
      ]
     },
     "execution_count": 8,
     "metadata": {},
     "output_type": "execute_result"
    }
   ],
   "source": [
    "client.emissions_datasets(['CA', 'IT']).sample(5)"
   ]
  },
  {
   "cell_type": "markdown",
   "id": "9de583c0-1238-4dbd-9936-583692d80c39",
   "metadata": {},
   "source": [
    "## Get emissions"
   ]
  },
  {
   "cell_type": "markdown",
   "id": "d7e5528f-e18d-4ebb-be2e-c2891722ca4b",
   "metadata": {},
   "source": [
    "If we just pass an `actor_id` to the `.emissions()` method, all the emissions will be returned."
   ]
  },
  {
   "cell_type": "code",
   "execution_count": 9,
   "id": "1424568d-e0ee-42e4-a63c-24740a1fac53",
   "metadata": {},
   "outputs": [
    {
     "data": {
      "text/html": [
       "<div>\n",
       "<style scoped>\n",
       "    .dataframe tbody tr th:only-of-type {\n",
       "        vertical-align: middle;\n",
       "    }\n",
       "\n",
       "    .dataframe tbody tr th {\n",
       "        vertical-align: top;\n",
       "    }\n",
       "\n",
       "    .dataframe thead th {\n",
       "        text-align: right;\n",
       "    }\n",
       "</style>\n",
       "<table border=\"1\" class=\"dataframe\">\n",
       "  <thead>\n",
       "    <tr style=\"text-align: right;\">\n",
       "      <th></th>\n",
       "      <th>actor_id</th>\n",
       "      <th>year</th>\n",
       "      <th>total_emissions</th>\n",
       "      <th>datasource_id</th>\n",
       "    </tr>\n",
       "  </thead>\n",
       "  <tbody>\n",
       "    <tr>\n",
       "      <th>0</th>\n",
       "      <td>US</td>\n",
       "      <td>1990</td>\n",
       "      <td>5275397531</td>\n",
       "      <td>BP:statistical_review_june2022</td>\n",
       "    </tr>\n",
       "    <tr>\n",
       "      <th>1</th>\n",
       "      <td>US</td>\n",
       "      <td>1991</td>\n",
       "      <td>5225911642</td>\n",
       "      <td>BP:statistical_review_june2022</td>\n",
       "    </tr>\n",
       "    <tr>\n",
       "      <th>2</th>\n",
       "      <td>US</td>\n",
       "      <td>1992</td>\n",
       "      <td>5308410257</td>\n",
       "      <td>BP:statistical_review_june2022</td>\n",
       "    </tr>\n",
       "    <tr>\n",
       "      <th>3</th>\n",
       "      <td>US</td>\n",
       "      <td>1993</td>\n",
       "      <td>5412149078</td>\n",
       "      <td>BP:statistical_review_june2022</td>\n",
       "    </tr>\n",
       "    <tr>\n",
       "      <th>4</th>\n",
       "      <td>US</td>\n",
       "      <td>1994</td>\n",
       "      <td>5505379237</td>\n",
       "      <td>BP:statistical_review_june2022</td>\n",
       "    </tr>\n",
       "  </tbody>\n",
       "</table>\n",
       "</div>"
      ],
      "text/plain": [
       "  actor_id  year  total_emissions                   datasource_id\n",
       "0       US  1990       5275397531  BP:statistical_review_june2022\n",
       "1       US  1991       5225911642  BP:statistical_review_june2022\n",
       "2       US  1992       5308410257  BP:statistical_review_june2022\n",
       "3       US  1993       5412149078  BP:statistical_review_june2022\n",
       "4       US  1994       5505379237  BP:statistical_review_june2022"
      ]
     },
     "execution_count": 9,
     "metadata": {},
     "output_type": "execute_result"
    }
   ],
   "source": [
    "df_tmp = client.emissions(actor_id='US')\n",
    "df_tmp.head()"
   ]
  },
  {
   "cell_type": "markdown",
   "id": "7138c977-9425-4ee5-8b13-08078e59dfa9",
   "metadata": {},
   "source": [
    "Keep in mind that this will return *all* the data for that actor. Below are the datasets available."
   ]
  },
  {
   "cell_type": "code",
   "execution_count": 10,
   "id": "852d79b6-f453-4de1-80a0-5b492ef929ff",
   "metadata": {},
   "outputs": [
    {
     "data": {
      "text/plain": [
       "{'BP:statistical_review_june2022',\n",
       " 'EDGARv7.0:ghg',\n",
       " 'GCB2022:national_fossil_emissions:v1.0',\n",
       " 'IEA:GHG_energy_highlights:2022',\n",
       " 'PRIMAP:10.5281/zenodo.7179775:v2.4',\n",
       " 'UNFCCC:GHG_ANNEX1:2019-11-08',\n",
       " 'WRI:climate_watch_historical_ghg:2022',\n",
       " 'carbon_monitor:2022_12_14',\n",
       " 'climateTRACE:country_inventory'}"
      ]
     },
     "execution_count": 10,
     "metadata": {},
     "output_type": "execute_result"
    }
   ],
   "source": [
    "set(df_tmp['datasource_id'])"
   ]
  },
  {
   "cell_type": "markdown",
   "id": "0f0f0a86-cb68-49b8-9e5e-bd9bfe9cbd1d",
   "metadata": {},
   "source": [
    "In most cases, we want to filter this and use a particular dataset. We can do that with the `datasource_id` parameter. "
   ]
  },
  {
   "cell_type": "code",
   "execution_count": 11,
   "id": "76141efc-057e-4ddb-8eaa-a04c7a55c7d5",
   "metadata": {},
   "outputs": [],
   "source": [
    "df_tmp = client.emissions(actor_id='US', datasource_id='PRIMAP:10.5281/zenodo.7179775:v2.4')"
   ]
  },
  {
   "cell_type": "markdown",
   "id": "f814c286-d487-4263-a725-a91e83d921a5",
   "metadata": {},
   "source": [
    "As a sanity check, let's look at which datasets are returned"
   ]
  },
  {
   "cell_type": "code",
   "execution_count": 12,
   "id": "cd729778-8c96-4099-b579-fa89ccd1b8f4",
   "metadata": {},
   "outputs": [
    {
     "data": {
      "text/plain": [
       "{'PRIMAP:10.5281/zenodo.7179775:v2.4'}"
      ]
     },
     "execution_count": 12,
     "metadata": {},
     "output_type": "execute_result"
    }
   ],
   "source": [
    "set(df_tmp['datasource_id'])"
   ]
  },
  {
   "cell_type": "markdown",
   "id": "02e0b5b9-15ef-47b7-a5e0-c78a8bc1321a",
   "metadata": {},
   "source": [
    "As you see, only PRIMAP was returned. "
   ]
  },
  {
   "cell_type": "markdown",
   "id": "792ba7f7-b31d-40ff-86db-905ad4967ff5",
   "metadata": {},
   "source": [
    "## Get emissions for all countries\n",
    "\n",
    "Now let's get emissions for all countries"
   ]
  },
  {
   "cell_type": "code",
   "execution_count": 13,
   "id": "d9983979-65a3-4054-83b6-cd9eb9dd2bdd",
   "metadata": {},
   "outputs": [
    {
     "name": "stdout",
     "output_type": "stream",
     "text": [
      "CPU times: user 4.5 s, sys: 748 ms, total: 5.24 s\n",
      "Wall time: 21.6 s\n"
     ]
    }
   ],
   "source": [
    "%%time\n",
    "iso_codes = [iso_code[0] for iso_code in iso_and_name]\n",
    "df_emissions = client.emissions(\n",
    "    actor_id=iso_codes, \n",
    "    datasource_id='PRIMAP:10.5281/zenodo.7179775:v2.4'\n",
    ")"
   ]
  },
  {
   "cell_type": "markdown",
   "id": "9a5df0a6-bf97-41cf-bdf9-b77d46626671",
   "metadata": {},
   "source": [
    "This takes about 30 seconds to retrieve all that data, even with `asyncio` working behind the scenes.\n",
    "This outputs a massive dataframe with the data from all countries concatenated together"
   ]
  },
  {
   "cell_type": "code",
   "execution_count": 14,
   "id": "d8591d92-5349-48b4-aff7-1ecf21c9e283",
   "metadata": {},
   "outputs": [
    {
     "data": {
      "text/html": [
       "<div>\n",
       "<style scoped>\n",
       "    .dataframe tbody tr th:only-of-type {\n",
       "        vertical-align: middle;\n",
       "    }\n",
       "\n",
       "    .dataframe tbody tr th {\n",
       "        vertical-align: top;\n",
       "    }\n",
       "\n",
       "    .dataframe thead th {\n",
       "        text-align: right;\n",
       "    }\n",
       "</style>\n",
       "<table border=\"1\" class=\"dataframe\">\n",
       "  <thead>\n",
       "    <tr style=\"text-align: right;\">\n",
       "      <th></th>\n",
       "      <th>actor_id</th>\n",
       "      <th>year</th>\n",
       "      <th>total_emissions</th>\n",
       "      <th>datasource_id</th>\n",
       "    </tr>\n",
       "  </thead>\n",
       "  <tbody>\n",
       "    <tr>\n",
       "      <th>429</th>\n",
       "      <td>CU</td>\n",
       "      <td>1996</td>\n",
       "      <td>41500000</td>\n",
       "      <td>PRIMAP:10.5281/zenodo.7179775:v2.4</td>\n",
       "    </tr>\n",
       "    <tr>\n",
       "      <th>366</th>\n",
       "      <td>HR</td>\n",
       "      <td>1860</td>\n",
       "      <td>934000</td>\n",
       "      <td>PRIMAP:10.5281/zenodo.7179775:v2.4</td>\n",
       "    </tr>\n",
       "    <tr>\n",
       "      <th>224</th>\n",
       "      <td>MW</td>\n",
       "      <td>1850</td>\n",
       "      <td>348000</td>\n",
       "      <td>PRIMAP:10.5281/zenodo.7179775:v2.4</td>\n",
       "    </tr>\n",
       "    <tr>\n",
       "      <th>387</th>\n",
       "      <td>ES</td>\n",
       "      <td>1881</td>\n",
       "      <td>16400000</td>\n",
       "      <td>PRIMAP:10.5281/zenodo.7179775:v2.4</td>\n",
       "    </tr>\n",
       "    <tr>\n",
       "      <th>318</th>\n",
       "      <td>NA</td>\n",
       "      <td>1961</td>\n",
       "      <td>9660000</td>\n",
       "      <td>PRIMAP:10.5281/zenodo.7179775:v2.4</td>\n",
       "    </tr>\n",
       "  </tbody>\n",
       "</table>\n",
       "</div>"
      ],
      "text/plain": [
       "    actor_id  year  total_emissions                       datasource_id\n",
       "429       CU  1996         41500000  PRIMAP:10.5281/zenodo.7179775:v2.4\n",
       "366       HR  1860           934000  PRIMAP:10.5281/zenodo.7179775:v2.4\n",
       "224       MW  1850           348000  PRIMAP:10.5281/zenodo.7179775:v2.4\n",
       "387       ES  1881         16400000  PRIMAP:10.5281/zenodo.7179775:v2.4\n",
       "318       NA  1961          9660000  PRIMAP:10.5281/zenodo.7179775:v2.4"
      ]
     },
     "execution_count": 14,
     "metadata": {},
     "output_type": "execute_result"
    }
   ],
   "source": [
    "df_emissions.sample(5)"
   ]
  },
  {
   "cell_type": "markdown",
   "id": "b6d3e973-3678-401b-9a30-df4130aebec0",
   "metadata": {},
   "source": [
    "## Calculate cumulative emissions"
   ]
  },
  {
   "cell_type": "markdown",
   "id": "1987814e-fff4-46a1-afcd-172140c38154",
   "metadata": {},
   "source": [
    "let's first make sure all the datasets have the same starting year"
   ]
  },
  {
   "cell_type": "code",
   "execution_count": 15,
   "id": "422d5ecc-31ed-461f-9151-c2b9fcdb84f0",
   "metadata": {},
   "outputs": [
    {
     "data": {
      "text/plain": [
       "True"
      ]
     },
     "execution_count": 15,
     "metadata": {},
     "output_type": "execute_result"
    }
   ],
   "source": [
    "all([df_emissions.loc[df_emissions['actor_id']==iso_code, 'year'].min() for iso_code in set(df_emissions['actor_id'])])"
   ]
  },
  {
   "cell_type": "markdown",
   "id": "0a4b269c-ad98-49a7-9d31-a0805f7233e9",
   "metadata": {},
   "source": [
    "Now we can calculate cumulative emissions"
   ]
  },
  {
   "cell_type": "code",
   "execution_count": 16,
   "id": "22cf71d1-4e6a-4776-8226-b960f5f8ac44",
   "metadata": {},
   "outputs": [],
   "source": [
    "df_out = df_emissions.assign(cumulative_emissions = df_emissions.groupby('actor_id')['total_emissions'].cumsum())"
   ]
  },
  {
   "cell_type": "markdown",
   "id": "f49f02fe-6079-4f09-958b-c746f537c51c",
   "metadata": {},
   "source": [
    "Now we have a column for cumulative emissions"
   ]
  },
  {
   "cell_type": "code",
   "execution_count": 17,
   "id": "05ed7f6b-3d7f-4963-acd0-1d77d9c36724",
   "metadata": {},
   "outputs": [
    {
     "data": {
      "text/html": [
       "<div>\n",
       "<style scoped>\n",
       "    .dataframe tbody tr th:only-of-type {\n",
       "        vertical-align: middle;\n",
       "    }\n",
       "\n",
       "    .dataframe tbody tr th {\n",
       "        vertical-align: top;\n",
       "    }\n",
       "\n",
       "    .dataframe thead th {\n",
       "        text-align: right;\n",
       "    }\n",
       "</style>\n",
       "<table border=\"1\" class=\"dataframe\">\n",
       "  <thead>\n",
       "    <tr style=\"text-align: right;\">\n",
       "      <th></th>\n",
       "      <th>actor_id</th>\n",
       "      <th>year</th>\n",
       "      <th>total_emissions</th>\n",
       "      <th>datasource_id</th>\n",
       "      <th>cumulative_emissions</th>\n",
       "    </tr>\n",
       "  </thead>\n",
       "  <tbody>\n",
       "    <tr>\n",
       "      <th>32</th>\n",
       "      <td>AD</td>\n",
       "      <td>1750</td>\n",
       "      <td>3740</td>\n",
       "      <td>PRIMAP:10.5281/zenodo.7179775:v2.4</td>\n",
       "      <td>3740</td>\n",
       "    </tr>\n",
       "    <tr>\n",
       "      <th>33</th>\n",
       "      <td>AD</td>\n",
       "      <td>1751</td>\n",
       "      <td>3750</td>\n",
       "      <td>PRIMAP:10.5281/zenodo.7179775:v2.4</td>\n",
       "      <td>7490</td>\n",
       "    </tr>\n",
       "    <tr>\n",
       "      <th>34</th>\n",
       "      <td>AD</td>\n",
       "      <td>1752</td>\n",
       "      <td>3760</td>\n",
       "      <td>PRIMAP:10.5281/zenodo.7179775:v2.4</td>\n",
       "      <td>11250</td>\n",
       "    </tr>\n",
       "    <tr>\n",
       "      <th>35</th>\n",
       "      <td>AD</td>\n",
       "      <td>1753</td>\n",
       "      <td>3770</td>\n",
       "      <td>PRIMAP:10.5281/zenodo.7179775:v2.4</td>\n",
       "      <td>15020</td>\n",
       "    </tr>\n",
       "    <tr>\n",
       "      <th>36</th>\n",
       "      <td>AD</td>\n",
       "      <td>1754</td>\n",
       "      <td>3780</td>\n",
       "      <td>PRIMAP:10.5281/zenodo.7179775:v2.4</td>\n",
       "      <td>18800</td>\n",
       "    </tr>\n",
       "  </tbody>\n",
       "</table>\n",
       "</div>"
      ],
      "text/plain": [
       "   actor_id  year  total_emissions                       datasource_id  \\\n",
       "32       AD  1750             3740  PRIMAP:10.5281/zenodo.7179775:v2.4   \n",
       "33       AD  1751             3750  PRIMAP:10.5281/zenodo.7179775:v2.4   \n",
       "34       AD  1752             3760  PRIMAP:10.5281/zenodo.7179775:v2.4   \n",
       "35       AD  1753             3770  PRIMAP:10.5281/zenodo.7179775:v2.4   \n",
       "36       AD  1754             3780  PRIMAP:10.5281/zenodo.7179775:v2.4   \n",
       "\n",
       "    cumulative_emissions  \n",
       "32                  3740  \n",
       "33                  7490  \n",
       "34                 11250  \n",
       "35                 15020  \n",
       "36                 18800  "
      ]
     },
     "execution_count": 17,
     "metadata": {},
     "output_type": "execute_result"
    }
   ],
   "source": [
    "df_out.head()"
   ]
  },
  {
   "cell_type": "markdown",
   "id": "4a1f2489-22cf-40f1-a16d-999671e9f9cb",
   "metadata": {},
   "source": [
    "## Rank country by cumulative emissions\n",
    "\n",
    "Now that we now the cumulative emission, we can rank the countries by the cumulative emissions in the most recent year."
   ]
  },
  {
   "cell_type": "code",
   "execution_count": 18,
   "id": "ce39588b-48c4-45f4-874f-c424f3a4668b",
   "metadata": {},
   "outputs": [],
   "source": [
    "last_year = df_out['year'].max()\n",
    "df_sorted = (\n",
    "    df_out.loc[df_out['year'] == last_year, ['actor_id', 'cumulative_emissions', 'year']]\n",
    "    .sort_values(by='cumulative_emissions', ascending=False)\n",
    ")\n",
    "\n",
    "df_sorted['rank'] = df_sorted['cumulative_emissions'].rank(ascending=False)\n"
   ]
  },
  {
   "cell_type": "markdown",
   "id": "ddbba446-eee9-4145-b85c-13518f0abcfa",
   "metadata": {},
   "source": [
    "Here are the top 10 cumulative emitters"
   ]
  },
  {
   "cell_type": "code",
   "execution_count": 19,
   "id": "475e4f30-cc6a-4bde-86d4-3195ddcb5430",
   "metadata": {},
   "outputs": [
    {
     "data": {
      "text/html": [
       "<div>\n",
       "<style scoped>\n",
       "    .dataframe tbody tr th:only-of-type {\n",
       "        vertical-align: middle;\n",
       "    }\n",
       "\n",
       "    .dataframe tbody tr th {\n",
       "        vertical-align: top;\n",
       "    }\n",
       "\n",
       "    .dataframe thead th {\n",
       "        text-align: right;\n",
       "    }\n",
       "</style>\n",
       "<table border=\"1\" class=\"dataframe\">\n",
       "  <thead>\n",
       "    <tr style=\"text-align: right;\">\n",
       "      <th></th>\n",
       "      <th>actor_id</th>\n",
       "      <th>cumulative_emissions</th>\n",
       "      <th>year</th>\n",
       "      <th>rank</th>\n",
       "      <th>name</th>\n",
       "    </tr>\n",
       "  </thead>\n",
       "  <tbody>\n",
       "    <tr>\n",
       "      <th>0</th>\n",
       "      <td>US</td>\n",
       "      <td>561240060000</td>\n",
       "      <td>2021</td>\n",
       "      <td>1.0</td>\n",
       "      <td>United States of America</td>\n",
       "    </tr>\n",
       "    <tr>\n",
       "      <th>1</th>\n",
       "      <td>CN</td>\n",
       "      <td>375048000000</td>\n",
       "      <td>2021</td>\n",
       "      <td>2.0</td>\n",
       "      <td>China</td>\n",
       "    </tr>\n",
       "    <tr>\n",
       "      <th>2</th>\n",
       "      <td>RU</td>\n",
       "      <td>179731600000</td>\n",
       "      <td>2021</td>\n",
       "      <td>3.0</td>\n",
       "      <td>Russian Federation</td>\n",
       "    </tr>\n",
       "    <tr>\n",
       "      <th>3</th>\n",
       "      <td>IN</td>\n",
       "      <td>132717000000</td>\n",
       "      <td>2021</td>\n",
       "      <td>4.0</td>\n",
       "      <td>India</td>\n",
       "    </tr>\n",
       "    <tr>\n",
       "      <th>4</th>\n",
       "      <td>DE</td>\n",
       "      <td>117760000000</td>\n",
       "      <td>2021</td>\n",
       "      <td>5.0</td>\n",
       "      <td>Germany</td>\n",
       "    </tr>\n",
       "    <tr>\n",
       "      <th>5</th>\n",
       "      <td>GB</td>\n",
       "      <td>104375500000</td>\n",
       "      <td>2021</td>\n",
       "      <td>6.0</td>\n",
       "      <td>United Kingdom of Great Britain and Northern I...</td>\n",
       "    </tr>\n",
       "    <tr>\n",
       "      <th>6</th>\n",
       "      <td>JP</td>\n",
       "      <td>78204570000</td>\n",
       "      <td>2021</td>\n",
       "      <td>7.0</td>\n",
       "      <td>Japan</td>\n",
       "    </tr>\n",
       "    <tr>\n",
       "      <th>7</th>\n",
       "      <td>FR</td>\n",
       "      <td>64192400000</td>\n",
       "      <td>2021</td>\n",
       "      <td>8.0</td>\n",
       "      <td>France</td>\n",
       "    </tr>\n",
       "    <tr>\n",
       "      <th>8</th>\n",
       "      <td>UA</td>\n",
       "      <td>52563900000</td>\n",
       "      <td>2021</td>\n",
       "      <td>9.0</td>\n",
       "      <td>Ukraine</td>\n",
       "    </tr>\n",
       "    <tr>\n",
       "      <th>9</th>\n",
       "      <td>BR</td>\n",
       "      <td>47231630000</td>\n",
       "      <td>2021</td>\n",
       "      <td>10.0</td>\n",
       "      <td>Brazil</td>\n",
       "    </tr>\n",
       "  </tbody>\n",
       "</table>\n",
       "</div>"
      ],
      "text/plain": [
       "  actor_id  cumulative_emissions  year  rank  \\\n",
       "0       US          561240060000  2021   1.0   \n",
       "1       CN          375048000000  2021   2.0   \n",
       "2       RU          179731600000  2021   3.0   \n",
       "3       IN          132717000000  2021   4.0   \n",
       "4       DE          117760000000  2021   5.0   \n",
       "5       GB          104375500000  2021   6.0   \n",
       "6       JP           78204570000  2021   7.0   \n",
       "7       FR           64192400000  2021   8.0   \n",
       "8       UA           52563900000  2021   9.0   \n",
       "9       BR           47231630000  2021  10.0   \n",
       "\n",
       "                                                name  \n",
       "0                           United States of America  \n",
       "1                                              China  \n",
       "2                                 Russian Federation  \n",
       "3                                              India  \n",
       "4                                            Germany  \n",
       "5  United Kingdom of Great Britain and Northern I...  \n",
       "6                                              Japan  \n",
       "7                                             France  \n",
       "8                                            Ukraine  \n",
       "9                                             Brazil  "
      ]
     },
     "execution_count": 19,
     "metadata": {},
     "output_type": "execute_result"
    }
   ],
   "source": [
    "pd.merge(df_sorted.loc[df_sorted['rank'] <= 10], df_country[['actor_id', 'name']], on='actor_id')"
   ]
  },
  {
   "cell_type": "markdown",
   "id": "9c92c61b-4434-4b17-ac48-24eb4b82e979",
   "metadata": {},
   "source": [
    "The United States and China are the top two emitters, with the U.S. emitting about 50% more emissions than China over the period from 1750 to 2021. "
   ]
  },
  {
   "cell_type": "code",
   "execution_count": 20,
   "id": "53b8da03-4446-4723-ac20-4a0c1bac0eec",
   "metadata": {},
   "outputs": [
    {
     "data": {
      "text/plain": [
       "1.4964486145773341"
      ]
     },
     "execution_count": 20,
     "metadata": {},
     "output_type": "execute_result"
    }
   ],
   "source": [
    "561240060000 / 375048000000"
   ]
  },
  {
   "cell_type": "markdown",
   "id": "013d9043-6b8d-4177-a375-545e3b5f8496",
   "metadata": {},
   "source": [
    "## Plot cumulative emissions\n",
    "\n",
    "Now that we know the top emitters, we can plot a time series"
   ]
  },
  {
   "cell_type": "code",
   "execution_count": 21,
   "id": "f9284f36-152a-47a6-b944-59ac688fd46b",
   "metadata": {},
   "outputs": [
    {
     "data": {
      "image/png": "[encoded data removed]",
      "text/plain": [
       "<Figure size 600x600 with 1 Axes>"
      ]
     },
     "metadata": {},
     "output_type": "display_data"
    }
   ],
   "source": [
    "fig = plt.figure(figsize=(6, 6))\n",
    "ax = fig.add_subplot(111)\n",
    "\n",
    "# top 8 emitters\n",
    "top_emitters = list(df_sorted.head(8).actor_id)\n",
    "\n",
    "# wong color palette (https://davidmathlogic.com/colorblind/#%23D81B60-%231E88E5-%23FFC107-%23004D40)\n",
    "colors = ['#000000', '#E69F00', '#56B4E9', '#009E73', '#F0E442', '#0072B2', '#D55E00', '#CC79A7']\n",
    "\n",
    "for actor_id, color in zip(top_emitters, cycle(colors)):\n",
    "    actor_name = df_country.loc[df_country['actor_id'] == actor_id, 'name'].values[0]\n",
    "    filt = df_out['actor_id'] == actor_id\n",
    "    df_tmp = df_out.loc[filt]\n",
    "\n",
    "    ax.plot(np.array(df_tmp['year']), np.array(df_tmp['cumulative_emissions']) / 10**9, \n",
    "            linewidth=4, \n",
    "            label = actor_name,\n",
    "            color=color)\n",
    "\n",
    "    ylim = [0, 600]\n",
    "    ax.set_ylim(ylim)\n",
    "    ax.set_xlim([1850, 2022])\n",
    "\n",
    "    # Turn off the display of all ticks.\n",
    "    ax.tick_params(which='both',     # Options for both major and minor ticks\n",
    "                   top='off',        # turn off top ticks\n",
    "                   left='off',       # turn off left ticks\n",
    "                   right='off',      # turn off right ticks\n",
    "                   bottom='off')     # turn off bottom ticks\n",
    "\n",
    "    # Remove x tick marks\n",
    "    plt.setp(ax.get_xticklabels(), rotation=0)\n",
    "\n",
    "    # Hide the right and top spines\n",
    "    ax.spines['right'].set_visible(False)\n",
    "    ax.spines['left'].set_visible(False)\n",
    "    ax.spines['top'].set_visible(False)\n",
    "    ax.spines['bottom'].set_visible(False)\n",
    "\n",
    "    # Only show ticks on the left and bottom spines\n",
    "    ax.yaxis.set_ticks_position('left')\n",
    "    ax.xaxis.set_ticks_position('bottom')\n",
    "\n",
    "    # major/minor tick lines\n",
    "    ax.xaxis.set_minor_locator(AutoMinorLocator(5))\n",
    "    ax.grid(axis='y', \n",
    "            which='major', \n",
    "            color=[0.8, 0.8, 0.8], linestyle='-')\n",
    "\n",
    "    ax.set_ylabel(\"Cumulative Emissions (GtCO$_2$e)\", fontsize=12)\n",
    "    ax.legend(loc='upper left', frameon=False)"
   ]
  }
 ],
 "metadata": {
  "kernelspec": {
   "display_name": "Python 3 (ipykernel)",
   "language": "python",
   "name": "python3"
  },
  "language_info": {
   "codemirror_mode": {
    "name": "ipython",
    "version": 3
   },
   "file_extension": ".py",
   "mimetype": "text/x-python",
   "name": "python",
   "nbconvert_exporter": "python",
   "pygments_lexer": "ipython3",
   "version": "3.10.6"
  }
 },
 "nbformat": 4,
 "nbformat_minor": 5
}
