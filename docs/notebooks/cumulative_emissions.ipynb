{
 "cells": [
  {
   "cell_type": "markdown",
   "id": "a8aeac11-0634-4829-83a3-86d2b0b61c1b",
   "metadata": {},
   "source": [
    "# Cumulative emissions\n",
    "\n",
    "This example will walk through calculating and visulaizing cumulative emissions. "
   ]
  },
  {
   "cell_type": "code",
   "execution_count": null,
   "id": "c3b84d89-5854-449e-9b54-904e94a7df26",
   "metadata": {},
   "outputs": [],
   "source": [
    "import concurrent.futures\n",
    "from itertools import cycle\n",
    "import matplotlib.pyplot as plt\n",
    "from matplotlib.ticker import AutoMinorLocator\n",
    "import numpy as np\n",
    "from openclimate import Client\n",
    "import pandas as pd"
   ]
  },
  {
   "cell_type": "markdown",
   "id": "5c172b12-5e1e-49bf-bed4-dba84f6693e9",
   "metadata": {},
   "source": [
    "We will first initialize a `Client()` object."
   ]
  },
  {
   "cell_type": "code",
   "execution_count": null,
   "id": "537c79ec-43d3-4f14-83ed-f94ae1f7c5f2",
   "metadata": {},
   "outputs": [],
   "source": [
    "client = Client()"
   ]
  },
  {
   "cell_type": "markdown",
   "id": "6bed1464-129b-43b0-b65e-39528fd4152c",
   "metadata": {},
   "source": [
    "If you are using a jupyter enviornment, you will need to first `client.jupyter`. \n",
    "This patches the `asyncio` library to work in Jupyter envionrments using [nest-asyncio](https://pypi.org/project/nest-asyncio/)."
   ]
  },
  {
   "cell_type": "code",
   "execution_count": null,
   "id": "ca3c7afd-2d6a-4861-a147-bc7b123468d0",
   "metadata": {},
   "outputs": [],
   "source": [
    "client.jupyter"
   ]
  },
  {
   "cell_type": "markdown",
   "id": "08fbf102-9ce8-4671-b692-535129ef129d",
   "metadata": {},
   "source": [
    "## Get country codes \n",
    "\n",
    "OpenClimate references each country by its two-letter [ISO-3166](https://www.iso.org/iso-3166-country-codes.html) code.\n",
    "To access this in `openclimate` we can use the `.parts()` method to get all the \"parts\" of EARTH. Other codes we use are [UN/LOCODEs](https://unece.org/trade/cefact/unlocode-code-list-country-and-territory) for cities and [LEI](https://www.gleif.org/en/about-lei/introducing-the-legal-entity-identifier-lei) for companies. As a catch-all term, we call them an `actor_id`."
   ]
  },
  {
   "cell_type": "code",
   "execution_count": null,
   "id": "bca58af4-bc20-4aee-80af-78d8abd53e63",
   "metadata": {},
   "outputs": [],
   "source": [
    "df_country = client.parts('EARTH')"
   ]
  },
  {
   "cell_type": "markdown",
   "id": "2a4f72a5-f8b2-4c6e-8f9e-e2332066d20e",
   "metadata": {},
   "source": [
    "Looking at the dataframe that's returned, we have a column with each country's `actor_id`. "
   ]
  },
  {
   "cell_type": "code",
   "execution_count": null,
   "id": "dd550cfa-702a-44ff-b6d2-c965d23c166f",
   "metadata": {},
   "outputs": [],
   "source": [
    "df_country.head()"
   ]
  },
  {
   "cell_type": "markdown",
   "id": "3f0691f6-a50b-4a25-88a2-24f290b74147",
   "metadata": {},
   "source": [
    "Let's save just the `actor_id` to a list "
   ]
  },
  {
   "cell_type": "code",
   "execution_count": null,
   "id": "31a37d06-b76d-4976-b306-bcce646a4aee",
   "metadata": {},
   "outputs": [],
   "source": [
    "iso_and_name = list(zip(df_country['actor_id'], df_country['name']))"
   ]
  },
  {
   "cell_type": "markdown",
   "id": "3e9b384c-3176-43fe-a7f1-d4f1626d869c",
   "metadata": {},
   "source": [
    "## Which datasets are available?\n",
    "\n",
    "To get a list of datasets available for an actor you can use the `.emissions_datasets()` method.\n",
    "Here I am asking for datasets with Candian emissions."
   ]
  },
  {
   "cell_type": "code",
   "execution_count": null,
   "id": "6ef2d090-7ca7-46f4-bc0c-5e90f355e0ab",
   "metadata": {},
   "outputs": [],
   "source": [
    "client.emissions_datasets('CA')"
   ]
  },
  {
   "cell_type": "markdown",
   "id": "bab4b30a-ecca-4788-81b5-a49aa2c86b67",
   "metadata": {},
   "source": [
    "You can return datasets for multiple actors at once by passing them as a callable, such as a list or tuple. Here I am asking for Canadian and Italian emission datasets, but only returning a sample of 5 records."
   ]
  },
  {
   "cell_type": "code",
   "execution_count": null,
   "id": "2aef95c2-f5c8-4549-ade9-282b8cac11a3",
   "metadata": {},
   "outputs": [],
   "source": [
    "client.emissions_datasets(['CA', 'IT']).sample(5)"
   ]
  },
  {
   "cell_type": "markdown",
   "id": "9de583c0-1238-4dbd-9936-583692d80c39",
   "metadata": {},
   "source": [
    "## Get emissions"
   ]
  },
  {
   "cell_type": "markdown",
   "id": "d7e5528f-e18d-4ebb-be2e-c2891722ca4b",
   "metadata": {},
   "source": [
    "If we just pass an `actor_id` to the `.emissions()` method, all the emissions will be returned."
   ]
  },
  {
   "cell_type": "code",
   "execution_count": null,
   "id": "1424568d-e0ee-42e4-a63c-24740a1fac53",
   "metadata": {},
   "outputs": [],
   "source": [
    "df_tmp = client.emissions(actor_id='US')\n",
    "df_tmp.head()"
   ]
  },
  {
   "cell_type": "markdown",
   "id": "7138c977-9425-4ee5-8b13-08078e59dfa9",
   "metadata": {},
   "source": [
    "Keep in mind that this will return *all* the data for that actor. Below are the datasets available."
   ]
  },
  {
   "cell_type": "code",
   "execution_count": null,
   "id": "852d79b6-f453-4de1-80a0-5b492ef929ff",
   "metadata": {},
   "outputs": [],
   "source": [
    "set(df_tmp['datasource_id'])"
   ]
  },
  {
   "cell_type": "markdown",
   "id": "0f0f0a86-cb68-49b8-9e5e-bd9bfe9cbd1d",
   "metadata": {},
   "source": [
    "In most cases, we want to filter this and use a particular dataset. We can do that with the `datasource_id` parameter. "
   ]
  },
  {
   "cell_type": "code",
   "execution_count": null,
   "id": "76141efc-057e-4ddb-8eaa-a04c7a55c7d5",
   "metadata": {},
   "outputs": [],
   "source": [
    "df_tmp = client.emissions(actor_id='US', datasource_id='PRIMAP:10.5281/zenodo.7179775:v2.4')"
   ]
  },
  {
   "cell_type": "markdown",
   "id": "f814c286-d487-4263-a725-a91e83d921a5",
   "metadata": {},
   "source": [
    "As a sanity check, let's look at which datasets are returned"
   ]
  },
  {
   "cell_type": "code",
   "execution_count": null,
   "id": "cd729778-8c96-4099-b579-fa89ccd1b8f4",
   "metadata": {},
   "outputs": [],
   "source": [
    "set(df_tmp['datasource_id'])"
   ]
  },
  {
   "cell_type": "markdown",
   "id": "02e0b5b9-15ef-47b7-a5e0-c78a8bc1321a",
   "metadata": {},
   "source": [
    "As you see, only PRIMAP was returned. "
   ]
  },
  {
   "cell_type": "markdown",
   "id": "792ba7f7-b31d-40ff-86db-905ad4967ff5",
   "metadata": {},
   "source": [
    "## Get emissions for all countries\n",
    "\n",
    "Now let's get emissions for all countries"
   ]
  },
  {
   "cell_type": "code",
   "execution_count": null,
   "id": "d9983979-65a3-4054-83b6-cd9eb9dd2bdd",
   "metadata": {},
   "outputs": [],
   "source": [
    "%%time\n",
    "iso_codes = [iso_code[0] for iso_code in iso_and_name]\n",
    "df_emissions = client.emissions(\n",
    "    actor_id=iso_codes, \n",
    "    datasource_id='PRIMAP:10.5281/zenodo.7179775:v2.4'\n",
    ")"
   ]
  },
  {
   "cell_type": "markdown",
   "id": "9a5df0a6-bf97-41cf-bdf9-b77d46626671",
   "metadata": {},
   "source": [
    "This takes about 30 seconds to retrieve all that data, even with `asyncio` working behind the scenes.\n",
    "This outputs a massive dataframe with the data from all countries concatenated together"
   ]
  },
  {
   "cell_type": "code",
   "execution_count": null,
   "id": "d8591d92-5349-48b4-aff7-1ecf21c9e283",
   "metadata": {},
   "outputs": [],
   "source": [
    "df_emissions.sample(5)"
   ]
  },
  {
   "cell_type": "markdown",
   "id": "b6d3e973-3678-401b-9a30-df4130aebec0",
   "metadata": {},
   "source": [
    "## Calculate cumulative emissions"
   ]
  },
  {
   "cell_type": "markdown",
   "id": "1987814e-fff4-46a1-afcd-172140c38154",
   "metadata": {},
   "source": [
    "let's first make sure all the datasets have the same starting year"
   ]
  },
  {
   "cell_type": "code",
   "execution_count": null,
   "id": "422d5ecc-31ed-461f-9151-c2b9fcdb84f0",
   "metadata": {},
   "outputs": [],
   "source": [
    "all([df_emissions.loc[df_emissions['actor_id']==iso_code, 'year'].min() for iso_code in set(df_emissions['actor_id'])])"
   ]
  },
  {
   "cell_type": "markdown",
   "id": "0a4b269c-ad98-49a7-9d31-a0805f7233e9",
   "metadata": {},
   "source": [
    "Now we can calculate cumulative emissions"
   ]
  },
  {
   "cell_type": "code",
   "execution_count": null,
   "id": "22cf71d1-4e6a-4776-8226-b960f5f8ac44",
   "metadata": {},
   "outputs": [],
   "source": [
    "df_out = df_emissions.assign(cumulative_emissions = df_emissions.groupby('actor_id')['total_emissions'].cumsum())"
   ]
  },
  {
   "cell_type": "markdown",
   "id": "f49f02fe-6079-4f09-958b-c746f537c51c",
   "metadata": {},
   "source": [
    "Now we have a column for cumulative emissions"
   ]
  },
  {
   "cell_type": "code",
   "execution_count": null,
   "id": "05ed7f6b-3d7f-4963-acd0-1d77d9c36724",
   "metadata": {},
   "outputs": [],
   "source": [
    "df_out.head()"
   ]
  },
  {
   "cell_type": "markdown",
   "id": "4a1f2489-22cf-40f1-a16d-999671e9f9cb",
   "metadata": {},
   "source": [
    "## Rank country by cumulative emissions\n",
    "\n",
    "Now that we now the cumulative emission, we can rank the countries by the cumulative emissions in the most recent year."
   ]
  },
  {
   "cell_type": "code",
   "execution_count": null,
   "id": "ce39588b-48c4-45f4-874f-c424f3a4668b",
   "metadata": {},
   "outputs": [],
   "source": [
    "last_year = df_out['year'].max()\n",
    "df_sorted = (\n",
    "    df_out.loc[df_out['year'] == last_year, ['actor_id', 'cumulative_emissions', 'year']]\n",
    "    .sort_values(by='cumulative_emissions', ascending=False)\n",
    ")\n",
    "\n",
    "df_sorted['rank'] = df_sorted['cumulative_emissions'].rank(ascending=False)\n"
   ]
  },
  {
   "cell_type": "markdown",
   "id": "ddbba446-eee9-4145-b85c-13518f0abcfa",
   "metadata": {},
   "source": [
    "Here are the top 10 cumulative emitters"
   ]
  },
  {
   "cell_type": "code",
   "execution_count": null,
   "id": "475e4f30-cc6a-4bde-86d4-3195ddcb5430",
   "metadata": {},
   "outputs": [],
   "source": [
    "pd.merge(df_sorted.loc[df_sorted['rank'] <= 10], df_country[['actor_id', 'name']], on='actor_id')"
   ]
  },
  {
   "cell_type": "markdown",
   "id": "9c92c61b-4434-4b17-ac48-24eb4b82e979",
   "metadata": {},
   "source": [
    "The United States and China are the top two emitters, with the U.S. emitting about 50% more emissions than China over the period from 1750 to 2021. "
   ]
  },
  {
   "cell_type": "code",
   "execution_count": null,
   "id": "53b8da03-4446-4723-ac20-4a0c1bac0eec",
   "metadata": {},
   "outputs": [],
   "source": [
    "561240060000 / 375048000000"
   ]
  },
  {
   "cell_type": "markdown",
   "id": "013d9043-6b8d-4177-a375-545e3b5f8496",
   "metadata": {},
   "source": [
    "## Plot cumulative emissions\n",
    "\n",
    "Now that we know the top emitters, we can plot a time series"
   ]
  },
  {
   "cell_type": "code",
   "execution_count": null,
   "id": "f9284f36-152a-47a6-b944-59ac688fd46b",
   "metadata": {},
   "outputs": [],
   "source": [
    "fig = plt.figure(figsize=(6, 6))\n",
    "ax = fig.add_subplot(111)\n",
    "\n",
    "# top 8 emitters\n",
    "top_emitters = list(df_sorted.head(8).actor_id)\n",
    "\n",
    "# wong color palette (https://davidmathlogic.com/colorblind/#%23D81B60-%231E88E5-%23FFC107-%23004D40)\n",
    "colors = ['#000000', '#E69F00', '#56B4E9', '#009E73', '#F0E442', '#0072B2', '#D55E00', '#CC79A7']\n",
    "\n",
    "for actor_id, color in zip(top_emitters, cycle(colors)):\n",
    "    actor_name = df_country.loc[df_country['actor_id'] == actor_id, 'name'].values[0]\n",
    "    filt = df_out['actor_id'] == actor_id\n",
    "    df_tmp = df_out.loc[filt]\n",
    "\n",
    "    ax.plot(df_tmp['year'], df_tmp['cumulative_emissions']/10**9, \n",
    "            linewidth=4, \n",
    "            label = actor_name,\n",
    "            color=color)\n",
    "\n",
    "    ylim = [0, 600]\n",
    "    ax.set_ylim(ylim)\n",
    "    ax.set_xlim([1850, 2022])\n",
    "\n",
    "    # Turn off the display of all ticks.\n",
    "    ax.tick_params(which='both',     # Options for both major and minor ticks\n",
    "                   top='off',        # turn off top ticks\n",
    "                   left='off',       # turn off left ticks\n",
    "                   right='off',      # turn off right ticks\n",
    "                   bottom='off')     # turn off bottom ticks\n",
    "\n",
    "    # Remove x tick marks\n",
    "    plt.setp(ax.get_xticklabels(), rotation=0)\n",
    "\n",
    "    # Hide the right and top spines\n",
    "    ax.spines['right'].set_visible(False)\n",
    "    ax.spines['left'].set_visible(False)\n",
    "    ax.spines['top'].set_visible(False)\n",
    "    ax.spines['bottom'].set_visible(False)\n",
    "\n",
    "    # Only show ticks on the left and bottom spines\n",
    "    ax.yaxis.set_ticks_position('left')\n",
    "    ax.xaxis.set_ticks_position('bottom')\n",
    "\n",
    "    # major/minor tick lines\n",
    "    ax.xaxis.set_minor_locator(AutoMinorLocator(5))\n",
    "    ax.grid(axis='y', \n",
    "            which='major', \n",
    "            color=[0.8, 0.8, 0.8], linestyle='-')\n",
    "\n",
    "    ax.set_ylabel(\"Cumulative Emissions (GtCO$_2$e)\", fontsize=12)\n",
    "    ax.legend(loc='upper left', frameon=False)"
   ]
  }
 ],
 "metadata": {
  "kernelspec": {
   "display_name": "Python 3",
   "language": "python",
   "name": "python3"
  },
  "language_info": {
   "codemirror_mode": {
    "name": "ipython",
    "version": 3
   },
   "file_extension": ".py",
   "mimetype": "text/x-python",
   "name": "python",
   "nbconvert_exporter": "python",
   "pygments_lexer": "ipython3"
  }
 },
 "nbformat": 4,
 "nbformat_minor": 5
}
