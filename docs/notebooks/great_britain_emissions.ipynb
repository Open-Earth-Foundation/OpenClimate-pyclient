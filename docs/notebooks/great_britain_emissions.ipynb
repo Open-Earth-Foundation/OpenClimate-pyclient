{
 "cells": [
  {
   "cell_type": "markdown",
   "id": "903d1596-80b8-41ab-9114-cc8adeb40cca",
   "metadata": {},
   "source": [
    "# Great Britain emissions\n",
    "\n",
    "Here we will explore Great Britain's emissions and ask whether or not they are on track to meeting their emissions pledges.\n",
    "\"On track\" will be defined as their current emissions being less than that of a scenario with uniform decrease in emissions. "
   ]
  },
  {
   "cell_type": "code",
   "execution_count": null,
   "id": "12d58f45-d4e7-46c6-b4a8-83b60433f6b0",
   "metadata": {},
   "outputs": [],
   "source": [
    "import matplotlib.pyplot as plt\n",
    "from matplotlib.ticker import AutoMinorLocator\n",
    "import numpy as np\n",
    "import pandas as pd\n",
    "from openclimate import Client"
   ]
  },
  {
   "cell_type": "code",
   "execution_count": null,
   "id": "b3292196-c38e-4b26-963f-fca245f9bf43",
   "metadata": {},
   "outputs": [],
   "source": [
    "# create an openclimate Client object\n",
    "client = Client()\n",
    "client.jupyter"
   ]
  },
  {
   "cell_type": "markdown",
   "id": "3f340237-2de3-4a57-8c74-f7733c9a4f4a",
   "metadata": {},
   "source": [
    "## Get data\n",
    "We will the emissions data from UNFCCC to perform this analysis. "
   ]
  },
  {
   "cell_type": "code",
   "execution_count": null,
   "id": "79031d8d-a552-4640-a105-5b775e8ad787",
   "metadata": {},
   "outputs": [],
   "source": [
    "actor_id = 'GB'\n",
    "client.emissions_datasets(actor_id)"
   ]
  },
  {
   "cell_type": "code",
   "execution_count": null,
   "id": "67ba75bf-f281-4b9f-924a-3058c0ecd430",
   "metadata": {},
   "outputs": [],
   "source": [
    "emissions_datasource = 'UNFCCC:GHG_ANNEX1:2019-11-08'\n",
    "df_gb = client.emissions(actor_id=actor_id, datasource_id=emissions_datasource)\n",
    "df_ndc = client.targets(actor_id=actor_id)\n",
    "\n",
    "# convert tonnes to megatonnes\n",
    "df_gb['total_emissions'] = df_gb['total_emissions'] / 10**6\n",
    "\n",
    "# filter ndc by target\n",
    "filt = df_ndc['datasource_name']=='IGES NDC Database'\n",
    "df_ndc = df_ndc.loc[filt]"
   ]
  },
  {
   "cell_type": "markdown",
   "id": "5ccd2923-c181-4909-b853-161a89638379",
   "metadata": {},
   "source": [
    "The UK has pledged to reduce their emissions by 68% from 1990 levels by 2030."
   ]
  },
  {
   "cell_type": "code",
   "execution_count": null,
   "id": "77758933-40d2-4343-83b7-275eb16bc3d1",
   "metadata": {},
   "outputs": [],
   "source": [
    "df_ndc"
   ]
  },
  {
   "cell_type": "markdown",
   "id": "ffb81d81-2f04-4315-b4b2-4ccde0aacdca",
   "metadata": {},
   "source": [
    "A quick look at their emissions we see that Great Britain's emissions have been decreasing for the last thirty years. But this brings up a a couple questions:\n",
    "- Is GB \"on-track\" to meeting this goal?\n",
    "- Will GB meet their goal if this long-term trend continues?"
   ]
  },
  {
   "cell_type": "code",
   "execution_count": null,
   "id": "b7e4df11-d062-4928-a8a2-95e280b846e1",
   "metadata": {},
   "outputs": [],
   "source": [
    "plt.plot(df_gb['year'], df_gb['total_emissions'])"
   ]
  },
  {
   "cell_type": "markdown",
   "id": "63125ec5-1304-4979-81da-d7e88e6f2c61",
   "metadata": {},
   "source": [
    "## Is Great Britain on track?\n",
    "\n",
    "To answer this question, we will simply ask if the current emissions are less than if the emissions decreased uniformly from baseline to their goal. We will also ask whether GB will meet their goal if the long-term trend contintues. \n",
    "Keep in mind that both of these are crude and imperfect metrics. More sophistiated approaches including using integrated assessment models (IAMs) that incorporate proposed actions. "
   ]
  },
  {
   "cell_type": "code",
   "execution_count": null,
   "id": "b4b8d8bc-a819-48c8-84d9-47d5548a399b",
   "metadata": {},
   "outputs": [],
   "source": [
    "# implementation normal equations for ordinary least squares regression \n",
    "def linear_eq(df, start_year=None, year_var='year', emissions_var='total_emissions'):\n",
    "    '''simple linear regression'''\n",
    "    filt = df[year_var]>=start_year\n",
    "    x = df.loc[filt, year_var].values\n",
    "    y = df.loc[filt, emissions_var].values\n",
    "\n",
    "    # least-squares linear regression\n",
    "    n = len(x)\n",
    "    sum_x = np.sum(x)\n",
    "    sum_y = np.sum(y)\n",
    "    sum_xy = np.sum(x * y)\n",
    "    sum_xx = np.sum(x * x)\n",
    "    mean_x = np.mean(x)\n",
    "    mean_y = np.mean(y)\n",
    "\n",
    "    # calculate coefficients\n",
    "    b = (n * sum_xy - sum_x * sum_y) / (n * sum_xx - sum_x**2)\n",
    "    a = mean_y - b * mean_x\n",
    "\n",
    "    # Make predictions using the regression line\n",
    "    pred = lambda x: a + b * x\n",
    "    return {'equation':pred, 'slope':b, 'intercept':a}"
   ]
  },
  {
   "cell_type": "code",
   "execution_count": null,
   "id": "81970296-599c-4e68-9160-695dfb1e787f",
   "metadata": {},
   "outputs": [],
   "source": [
    "baseline_year = df_ndc['baseline_year'].values[0]\n",
    "current_year = df_gb['year'].max()\n",
    "net_zero_year = 2050\n",
    "target_year = df_ndc['target_year'].values[0]\n",
    "target_value = int(df_ndc['target_value'])\n",
    "target_percent = float(df_ndc['target_value'].squeeze())/100\n",
    "\n",
    "pred = linear_eq(df_gb, start_year=baseline_year)\n",
    "X_pred = np.arange(baseline_year, target_year + 1)\n",
    "Y_pred = pred['equation'](X_pred)\n",
    "\n",
    "# get baseline and target emissions \n",
    "filt = df_gb['year'] == baseline_year\n",
    "baseline_emissions = df_gb.loc[filt,'total_emissions']\n",
    "target_emissions = df_gb.loc[filt,'total_emissions'] * (100 - target_value)/100\n",
    "net_zero_emissions = 0 \n",
    "\n",
    "# current emissions\n",
    "filt = df_gb['year'] == current_year\n",
    "current_emissions = df_gb.loc[filt,'total_emissions']\n",
    "\n",
    "# average annual reduction needed to achieve goal:\n",
    "avg_rate = round(((baseline_emissions - target_emissions) / (target_year - baseline_year + 1)).values[0])\n",
    "nz_rate = round(((baseline_emissions - net_zero_emissions) / (net_zero_year - baseline_year + 1)).values[0])\n",
    "\n",
    "year_target_achieved = round((target_emissions - pred['intercept']) / pred['slope'])\n",
    "print(f\"To acheive goal, average rate of reduction needs to be {abs(avg_rate):.0f} MT/yr\")\n",
    "print(f\"To acheive net-zero goal, average rate of reduction needs to be {abs(nz_rate):.0f} MT/yr\")\n",
    "print(f\"GB reducing emissions by about {abs(pred['slope']):.0f} MT/yr\")\n",
    "print(f'Target emissions of {int(target_emissions.values)} MT/yr will be acheived around {int(year_target_achieved.values)}')"
   ]
  },
  {
   "cell_type": "markdown",
   "id": "10e7fcec-15dd-443b-af2f-a075e30c5ec5",
   "metadata": {},
   "source": [
    "From this quick analysis, we can see that GB maybe be slightly off track to meeting their goals"
   ]
  },
  {
   "cell_type": "markdown",
   "id": "19245139-3037-40dc-a954-80fdd16c6e25",
   "metadata": {},
   "source": [
    "## Plot of emissions and pledges\n",
    "\n"
   ]
  },
  {
   "cell_type": "code",
   "execution_count": null,
   "id": "5c11898d-b74b-444d-88ff-f56f0662d278",
   "metadata": {},
   "outputs": [],
   "source": [
    "fig = plt.figure(figsize=(6, 6))\n",
    "ax = fig.add_subplot(111)\n",
    "\n",
    "ax.plot(df_gb['year'], df_gb['total_emissions'], \n",
    "        linewidth=4, \n",
    "        label='Great Britian annual emissions',\n",
    "       color=[0.0,0.0,0.0])\n",
    "\n",
    "ax.plot(X_pred, Y_pred, '--', \n",
    "        linewidth=2, \n",
    "        color=[0.6,0.6,0.6],\n",
    "       label='Linear trend')\n",
    "\n",
    "ax.plot([baseline_year, target_year], [baseline_emissions, target_emissions], \n",
    "        '-', \n",
    "        linewidth=2, \n",
    "        color=[0.6,0.6,0.6],\n",
    "       label='linear decrease')\n",
    "\n",
    "\n",
    "ax.plot([df_ndc['baseline_year'], df_ndc['target_year']],\n",
    "        [target_emissions, target_emissions], \n",
    "        '-.', \n",
    "        linewidth=1, \n",
    "        color=[0.5,0.5,0.5],\n",
    "       label='target emissions')\n",
    "\n",
    "ylim = [200, 850]\n",
    "ax.set_ylim(ylim)\n",
    "ax.set_xlim([1990, 2035])\n",
    "\n",
    "# Turn off the display of all ticks.\n",
    "ax.tick_params(which='both',     # Options for both major and minor ticks\n",
    "               top='off',        # turn off top ticks\n",
    "               left='off',       # turn off left ticks\n",
    "               right='off',      # turn off right ticks\n",
    "               bottom='off')     # turn off bottom ticks\n",
    "\n",
    "# Remove x tick marks\n",
    "plt.setp(ax.get_xticklabels(), rotation=0)\n",
    "\n",
    "# Hide the right and top spines\n",
    "ax.spines['right'].set_visible(False)\n",
    "ax.spines['left'].set_visible(False)\n",
    "ax.spines['top'].set_visible(False)\n",
    "ax.spines['bottom'].set_visible(False)\n",
    "\n",
    "# Only show ticks on the left and bottom spines\n",
    "ax.yaxis.set_ticks_position('left')\n",
    "ax.xaxis.set_ticks_position('bottom')\n",
    "\n",
    "# major/minor tick lines\n",
    "ax.xaxis.set_minor_locator(AutoMinorLocator(5))\n",
    "ax.grid(axis='y', \n",
    "        which='major', \n",
    "        color=[0.8, 0.8, 0.8], linestyle='-')\n",
    "\n",
    "bline_emissions = baseline_emissions.values[0]\n",
    "ylim_achieved = [(bline_emissions - ylim[0])/ (bline_emissions*target_percent)*100,\n",
    "                 (bline_emissions - ylim[1])/ (bline_emissions*target_percent)*100]\n",
    "ax2 = ax.twinx()\n",
    "ax2.set_ylim(ylim_achieved)\n",
    "\n",
    "# Hide the right and top spines\n",
    "ax2.spines['right'].set_visible(False)\n",
    "ax2.spines['left'].set_visible(False)\n",
    "ax2.spines['top'].set_visible(False)\n",
    "ax2.spines['bottom'].set_visible(False)\n",
    "\n",
    "# Only show ticks on the left and bottom spines\n",
    "ax2.yaxis.set_ticks_position('right')\n",
    "ax2.xaxis.set_ticks_position('bottom')\n",
    "ax2.yaxis.set_tick_params(size=0)\n",
    "\n",
    "# Set the y-axis tick labels using a FixedFormatter\n",
    "vals = ax2.get_yticks()\n",
    "ax2.yaxis.set_major_locator(plt.FixedLocator(vals))\n",
    "ax2.set_yticklabels([f\"{int(x)}%\" for x in vals])\n",
    "\n",
    "ax2.set_ylabel(\"Percent achieved\", fontsize=12)\n",
    "ax.set_ylabel(\"Emissions (MtCO$_2$e)\", fontsize=12)\n",
    "ax.legend(loc='upper right', frameon=False)"
   ]
  },
  {
   "cell_type": "markdown",
   "id": "75c5711a-c2aa-499f-bb15-b09dea4b6674",
   "metadata": {},
   "source": [
    "Now let's do the same for net zero"
   ]
  },
  {
   "cell_type": "code",
   "execution_count": null,
   "id": "f4be7232-14d1-44a7-9e3b-4b00d056ea5a",
   "metadata": {},
   "outputs": [],
   "source": [
    "pred = linear_eq(df_gb, start_year=baseline_year)\n",
    "X_pred = np.arange(baseline_year, net_zero_year + 1)\n",
    "Y_pred = pred['equation'](X_pred)"
   ]
  },
  {
   "cell_type": "code",
   "execution_count": null,
   "id": "d9946724-6a3f-4204-b7cb-b6f51f0a0743",
   "metadata": {},
   "outputs": [],
   "source": [
    "fig = plt.figure(figsize=(6, 6))\n",
    "ax = fig.add_subplot(111)\n",
    "\n",
    "ax.plot(df_gb['year'], df_gb['total_emissions'], \n",
    "        linewidth=4, \n",
    "        label='Great Britian annual emissions',\n",
    "       color=[0.0,0.0,0.0])\n",
    "\n",
    "ax.plot(X_pred, Y_pred, '--', \n",
    "        linewidth=2, \n",
    "        color=[0.6,0.6,0.6],\n",
    "       label='Linear trend')\n",
    "\n",
    "ax.plot([baseline_year, net_zero_year], [baseline_emissions, net_zero_emissions], \n",
    "        '-', \n",
    "        linewidth=2, \n",
    "        color=[0.6,0.6,0.6],\n",
    "       label='linear decrease')\n",
    "\n",
    "ylim = [0, 850]\n",
    "ax.set_ylim(ylim)\n",
    "ax.set_xlim([1990, 2055])\n",
    "\n",
    "# Turn off the display of all ticks.\n",
    "ax.tick_params(which='both',     # Options for both major and minor ticks\n",
    "               top='off',        # turn off top ticks\n",
    "               left='off',       # turn off left ticks\n",
    "               right='off',      # turn off right ticks\n",
    "               bottom='off')     # turn off bottom ticks\n",
    "\n",
    "# Remove x tick marks\n",
    "plt.setp(ax.get_xticklabels(), rotation=0)\n",
    "\n",
    "# Hide the right and top spines\n",
    "ax.spines['right'].set_visible(False)\n",
    "ax.spines['left'].set_visible(False)\n",
    "ax.spines['top'].set_visible(False)\n",
    "ax.spines['bottom'].set_visible(False)\n",
    "\n",
    "# Only show ticks on the left and bottom spines\n",
    "ax.yaxis.set_ticks_position('left')\n",
    "ax.xaxis.set_ticks_position('bottom')\n",
    "\n",
    "# major/minor tick lines\n",
    "ax.xaxis.set_minor_locator(AutoMinorLocator(5))\n",
    "ax.grid(axis='y', \n",
    "        which='major', \n",
    "        color=[0.8, 0.8, 0.8], linestyle='-')\n",
    "\n",
    "bline_emissions = baseline_emissions.values[0]\n",
    "ylim_achieved = [(bline_emissions - ylim[0])/ (bline_emissions*target_percent)*100,\n",
    "                 (bline_emissions - ylim[1])/ (bline_emissions*target_percent)*100]\n",
    "\n",
    "ax.set_ylabel(\"Emissions (MtCO$_2$e)\", fontsize=12)\n",
    "ax.legend(loc='upper right', frameon=False)"
   ]
  },
  {
   "cell_type": "markdown",
   "id": "d89bd3e0-1741-4609-b2e3-fa65e548dbfa",
   "metadata": {},
   "source": [
    "In general, the emissions have been trending in the right direction over the past 30 years, but emissions will have to decline at an increasing rate in order to achieve these goals. "
   ]
  }
 ],
 "metadata": {
  "kernelspec": {
   "display_name": "latest",
   "language": "python",
   "name": "latest"
  },
  "language_info": {
   "codemirror_mode": {
    "name": "ipython",
    "version": 3
   },
   "file_extension": ".py",
   "mimetype": "text/x-python",
   "name": "python",
   "nbconvert_exporter": "python",
   "pygments_lexer": "ipython3"
  }
 },
 "nbformat": 4,
 "nbformat_minor": 5
}
