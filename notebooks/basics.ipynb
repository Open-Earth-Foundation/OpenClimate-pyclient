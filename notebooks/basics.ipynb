{
 "cells": [
  {
   "cell_type": "markdown",
   "id": "20d5798f-3c1d-4045-9bf7-7ab4bc749f7f",
   "metadata": {},
   "source": [
    "# OpenClimate PyClient Basics\n",
    "This notebook will describe the basics of using the OpenClimate API Python Client.Please note that this client is a work-in-progress and will change over time\n",
    "\n",
    "### Install the package\n",
    "```python\n",
    "pip install git+https://github.com/Open-Earth-Foundation/OpenClimate-pyclient.git#egg=oc_pyclient\n",
    "```\n",
    "\n",
    "### Import the `Client` class\n",
    "```python\n",
    "from oc_pyclient import Client\n",
    "```\n",
    "\n",
    "### Client has the following methods\n",
    "- `.search()` method finds actor information by name and identifier\n",
    "- `.parts()` retrives subdision of actor. (e.g. For a country, it returns the top-level administrative parts, like states or provinces.)\n",
    "- `.emissions()` retrieves actor emissions\n",
    "- `.population()` retrives actor population\n",
    "- `.gdp()` retries acotr gross domestic product"
   ]
  },
  {
   "cell_type": "markdown",
   "id": "19b503c0-4f4c-47c5-aa90-838ecbc7a3b9",
   "metadata": {},
   "source": [
    "# Import and initialize the `Client`\n",
    "Since the project is still in active development, we are only allowing installations via GitHub"
   ]
  },
  {
   "cell_type": "code",
   "execution_count": 1,
   "id": "f572ba5b-e5d4-4e45-9ef1-5e0ba2e8bb58",
   "metadata": {},
   "outputs": [],
   "source": [
    "from oc_pyclient import Client\n",
    "import pandas as pd"
   ]
  },
  {
   "cell_type": "code",
   "execution_count": 2,
   "id": "e9208eab-9e63-4b76-aaeb-fb76f9aa8ed6",
   "metadata": {},
   "outputs": [],
   "source": [
    "client = Client()"
   ]
  },
  {
   "cell_type": "markdown",
   "id": "5e2d8264-557e-430b-8646-4c2c093df461",
   "metadata": {
    "tags": []
   },
   "source": [
    "# 0 Actor search\n",
    "- `name` searches for actors with exact name match.\n",
    "- `query` does a full search of identifiers and names that include the search parameter."
   ]
  },
  {
   "cell_type": "markdown",
   "id": "a93c45d0-d6f7-4044-90dd-336d36fd5d38",
   "metadata": {},
   "source": [
    "## 0.1 Name search\n",
    "search for an exact match of the actor name and is case senstive"
   ]
  },
  {
   "cell_type": "code",
   "execution_count": 3,
   "id": "e7e9fdf4-86c9-464d-ac7d-56586e7d270c",
   "metadata": {},
   "outputs": [
    {
     "data": {
      "text/plain": [
       "[{'actor_id': 'US-MN',\n",
       "  'name': 'Minnesota',\n",
       "  'type': 'adm1',\n",
       "  'is_part_of': 'US',\n",
       "  'datasource_id': 'ISO 3166-2:2020',\n",
       "  'created': '2022-11-01T18:34:03.810Z',\n",
       "  'last_updated': '2022-11-01T18:34:03.810Z',\n",
       "  'names': [{'name': 'Minnesota',\n",
       "    'language': 'en',\n",
       "    'preferred': True,\n",
       "    'datasource_id': 'ISO 3166-2:2020',\n",
       "    'created': '2022-11-01T18:34:08.454Z',\n",
       "    'last_updated': '2022-11-01T18:34:08.454Z'}],\n",
       "  'identifiers': [{'identifier': 'Q1527',\n",
       "    'namespace': 'Wikidata',\n",
       "    'datasource_id': 'OEF:WD:subnational-population:20221106',\n",
       "    'created': '2022-11-09T03:43:18.323Z',\n",
       "    'last_updated': '2022-11-09T04:00:39.721Z'}]}]"
      ]
     },
     "execution_count": 3,
     "metadata": {},
     "output_type": "execute_result"
    }
   ],
   "source": [
    "client.search(name='Minnesota')"
   ]
  },
  {
   "cell_type": "markdown",
   "id": "19c8e79e-0c86-4cfc-9efc-a93ac5eb95e4",
   "metadata": {},
   "source": [
    "## 0.2 Query search\n",
    "A case-senstive query search of actor names and identifiers and will match partial strings."
   ]
  },
  {
   "cell_type": "code",
   "execution_count": 4,
   "id": "896d2a26-fbb6-422d-bfc3-d87c49315cbf",
   "metadata": {},
   "outputs": [
    {
     "data": {
      "text/plain": [
       "[{'actor_id': 'US M84',\n",
       "  'name': 'Minnesota City',\n",
       "  'type': 'city',\n",
       "  'is_part_of': 'US-MN',\n",
       "  'datasource_id': 'UNLOCODE:2022-1',\n",
       "  'created': '2022-11-01T18:35:40.758Z',\n",
       "  'last_updated': '2022-11-01T18:35:40.758Z',\n",
       "  'names': [{'name': 'Minnesota City',\n",
       "    'language': 'und',\n",
       "    'preferred': False,\n",
       "    'datasource_id': 'UNLOCODE:2022-1',\n",
       "    'created': '2022-11-01T18:38:35.382Z',\n",
       "    'last_updated': '2022-11-01T18:38:35.382Z'}],\n",
       "  'identifiers': [{'identifier': 'US M84',\n",
       "    'namespace': 'UNLOCODE',\n",
       "    'datasource_id': 'UNLOCODE:2022-1',\n",
       "    'created': '2022-11-01T18:37:03.426Z',\n",
       "    'last_updated': '2022-11-01T18:37:03.426Z'}]},\n",
       " {'actor_id': 'US-MN',\n",
       "  'name': 'Minnesota',\n",
       "  'type': 'adm1',\n",
       "  'is_part_of': 'US',\n",
       "  'datasource_id': 'ISO 3166-2:2020',\n",
       "  'created': '2022-11-01T18:34:03.810Z',\n",
       "  'last_updated': '2022-11-01T18:34:03.810Z',\n",
       "  'names': [{'name': 'Minnesota',\n",
       "    'language': 'en',\n",
       "    'preferred': True,\n",
       "    'datasource_id': 'ISO 3166-2:2020',\n",
       "    'created': '2022-11-01T18:34:08.454Z',\n",
       "    'last_updated': '2022-11-01T18:34:08.454Z'}],\n",
       "  'identifiers': [{'identifier': 'Q1527',\n",
       "    'namespace': 'Wikidata',\n",
       "    'datasource_id': 'OEF:WD:subnational-population:20221106',\n",
       "    'created': '2022-11-09T03:43:18.323Z',\n",
       "    'last_updated': '2022-11-09T04:00:39.721Z'}]}]"
      ]
     },
     "execution_count": 4,
     "metadata": {},
     "output_type": "execute_result"
    }
   ],
   "source": [
    "client.search(query='Minnes')"
   ]
  },
  {
   "cell_type": "markdown",
   "id": "8d569658-acbd-4e3f-b5ba-53445f6f3e7e",
   "metadata": {
    "tags": []
   },
   "source": [
    "# 1. Finding the Actor ID"
   ]
  },
  {
   "cell_type": "markdown",
   "id": "07f103e8-228f-48e7-acf4-955c649ce73e",
   "metadata": {},
   "source": [
    "## 1.1 Get country codes\n",
    "The `actor_id` for countries is the 2-letter ISO-3166-1 code."
   ]
  },
  {
   "cell_type": "code",
   "execution_count": 5,
   "id": "5d442e35-5971-47ff-a6ea-03aa13694c01",
   "metadata": {},
   "outputs": [
    {
     "data": {
      "text/html": [
       "<div>\n",
       "<style scoped>\n",
       "    .dataframe tbody tr th:only-of-type {\n",
       "        vertical-align: middle;\n",
       "    }\n",
       "\n",
       "    .dataframe tbody tr th {\n",
       "        vertical-align: top;\n",
       "    }\n",
       "\n",
       "    .dataframe thead th {\n",
       "        text-align: right;\n",
       "    }\n",
       "</style>\n",
       "<table border=\"1\" class=\"dataframe\">\n",
       "  <thead>\n",
       "    <tr style=\"text-align: right;\">\n",
       "      <th></th>\n",
       "      <th>actor_id</th>\n",
       "      <th>name</th>\n",
       "      <th>type</th>\n",
       "    </tr>\n",
       "  </thead>\n",
       "  <tbody>\n",
       "    <tr>\n",
       "      <th>5</th>\n",
       "      <td>AD</td>\n",
       "      <td>Andorra</td>\n",
       "      <td>country</td>\n",
       "    </tr>\n",
       "    <tr>\n",
       "      <th>234</th>\n",
       "      <td>AE</td>\n",
       "      <td>United Arab Emirates</td>\n",
       "      <td>country</td>\n",
       "    </tr>\n",
       "    <tr>\n",
       "      <th>0</th>\n",
       "      <td>AF</td>\n",
       "      <td>Afghanistan</td>\n",
       "      <td>country</td>\n",
       "    </tr>\n",
       "    <tr>\n",
       "      <th>9</th>\n",
       "      <td>AG</td>\n",
       "      <td>Antigua and Barbuda</td>\n",
       "      <td>country</td>\n",
       "    </tr>\n",
       "    <tr>\n",
       "      <th>7</th>\n",
       "      <td>AI</td>\n",
       "      <td>Anguilla</td>\n",
       "      <td>country</td>\n",
       "    </tr>\n",
       "  </tbody>\n",
       "</table>\n",
       "</div>"
      ],
      "text/plain": [
       "    actor_id                  name     type\n",
       "5         AD               Andorra  country\n",
       "234       AE  United Arab Emirates  country\n",
       "0         AF           Afghanistan  country\n",
       "9         AG   Antigua and Barbuda  country\n",
       "7         AI              Anguilla  country"
      ]
     },
     "execution_count": 5,
     "metadata": {},
     "output_type": "execute_result"
    }
   ],
   "source": [
    "df_country = client.parts('EARTH')\n",
    "df_country.head()"
   ]
  },
  {
   "cell_type": "markdown",
   "id": "86ff5f23-f1d3-4b59-964f-22dff7f3d8c7",
   "metadata": {},
   "source": [
    "## 1.2 Get Canada actor_id"
   ]
  },
  {
   "cell_type": "code",
   "execution_count": 6,
   "id": "6c8473da-d6a4-4347-8a27-cf17864ea9fa",
   "metadata": {},
   "outputs": [
    {
     "data": {
      "text/plain": [
       "[{'actor_id': 'CA',\n",
       "  'name': 'Canada',\n",
       "  'type': 'country',\n",
       "  'is_part_of': 'EARTH',\n",
       "  'datasource_id': 'ISO 3166-1:2020',\n",
       "  'created': '2022-11-01T18:33:55.230Z',\n",
       "  'last_updated': '2022-11-01T18:33:55.230Z',\n",
       "  'names': [{'name': 'Canada',\n",
       "    'language': 'en',\n",
       "    'preferred': True,\n",
       "    'datasource_id': 'ISO 3166-1:2020',\n",
       "    'created': '2022-11-01T18:33:55.991Z',\n",
       "    'last_updated': '2022-11-01T18:33:55.991Z'},\n",
       "   {'name': 'Canada (le)',\n",
       "    'language': 'fr',\n",
       "    'preferred': True,\n",
       "    'datasource_id': 'ISO 3166-1:2020',\n",
       "    'created': '2022-11-01T18:33:56.183Z',\n",
       "    'last_updated': '2022-11-01T18:33:56.183Z'}],\n",
       "  'identifiers': [{'identifier': 'CAN',\n",
       "    'namespace': 'ISO-3166-1 alpha-3',\n",
       "    'datasource_id': 'ISO 3166-1:2020',\n",
       "    'created': '2022-11-01T18:33:55.440Z',\n",
       "    'last_updated': '2022-11-01T18:33:55.440Z'},\n",
       "   {'identifier': '124',\n",
       "    'namespace': 'ISO-3166-1 numeric',\n",
       "    'datasource_id': 'ISO 3166-1:2020',\n",
       "    'created': '2022-11-01T18:33:55.622Z',\n",
       "    'last_updated': '2022-11-01T18:33:55.622Z'},\n",
       "   {'identifier': 'CA',\n",
       "    'namespace': 'ISO-3166-1 alpha-2',\n",
       "    'datasource_id': 'ISO 3166-1:2020',\n",
       "    'created': '2022-11-01T18:33:55.796Z',\n",
       "    'last_updated': '2022-11-01T18:33:55.796Z'}]},\n",
       " {'actor_id': 'ES CND',\n",
       "  'name': 'Canada',\n",
       "  'type': 'city',\n",
       "  'is_part_of': 'ES',\n",
       "  'datasource_id': 'UNLOCODE:2022-1',\n",
       "  'created': '2022-11-01T18:34:49.520Z',\n",
       "  'last_updated': '2022-11-01T18:34:49.520Z',\n",
       "  'names': [{'name': 'Canada',\n",
       "    'language': 'und',\n",
       "    'preferred': False,\n",
       "    'datasource_id': 'UNLOCODE:2022-1',\n",
       "    'created': '2022-11-01T18:37:39.380Z',\n",
       "    'last_updated': '2022-11-01T18:37:39.380Z'}],\n",
       "  'identifiers': [{'identifier': 'ES CND',\n",
       "    'namespace': 'UNLOCODE',\n",
       "    'datasource_id': 'UNLOCODE:2022-1',\n",
       "    'created': '2022-11-01T18:36:14.220Z',\n",
       "    'last_updated': '2022-11-01T18:36:14.220Z'}]}]"
      ]
     },
     "execution_count": 6,
     "metadata": {},
     "output_type": "execute_result"
    }
   ],
   "source": [
    "# gets records containing the name 'Canada'\n",
    "# says the actor_id for Canada is CA\n",
    "client.search(name='Canada')"
   ]
  },
  {
   "cell_type": "markdown",
   "id": "c36f712c-1069-42ea-994d-aae2902c7755",
   "metadata": {},
   "source": [
    "## 1.3 Get provinces of Canada\n",
    "The `actor_id` is the ISO-3166-2 codes. The first two letters is the ISO-3166-1 country code and the two after the dash define the subnational actor."
   ]
  },
  {
   "cell_type": "code",
   "execution_count": 7,
   "id": "8c64cc55-2ec1-4cd0-a8c7-ddf9fdad6889",
   "metadata": {},
   "outputs": [
    {
     "data": {
      "text/html": [
       "<div>\n",
       "<style scoped>\n",
       "    .dataframe tbody tr th:only-of-type {\n",
       "        vertical-align: middle;\n",
       "    }\n",
       "\n",
       "    .dataframe tbody tr th {\n",
       "        vertical-align: top;\n",
       "    }\n",
       "\n",
       "    .dataframe thead th {\n",
       "        text-align: right;\n",
       "    }\n",
       "</style>\n",
       "<table border=\"1\" class=\"dataframe\">\n",
       "  <thead>\n",
       "    <tr style=\"text-align: right;\">\n",
       "      <th></th>\n",
       "      <th>actor_id</th>\n",
       "      <th>name</th>\n",
       "      <th>type</th>\n",
       "    </tr>\n",
       "  </thead>\n",
       "  <tbody>\n",
       "    <tr>\n",
       "      <th>0</th>\n",
       "      <td>CA-AB</td>\n",
       "      <td>Alberta</td>\n",
       "      <td>adm1</td>\n",
       "    </tr>\n",
       "    <tr>\n",
       "      <th>2</th>\n",
       "      <td>CA-BC</td>\n",
       "      <td>British Columbia</td>\n",
       "      <td>adm1</td>\n",
       "    </tr>\n",
       "    <tr>\n",
       "      <th>5</th>\n",
       "      <td>CA-MB</td>\n",
       "      <td>Manitoba</td>\n",
       "      <td>adm1</td>\n",
       "    </tr>\n",
       "    <tr>\n",
       "      <th>6</th>\n",
       "      <td>CA-NB</td>\n",
       "      <td>New Brunswick</td>\n",
       "      <td>adm1</td>\n",
       "    </tr>\n",
       "    <tr>\n",
       "      <th>7</th>\n",
       "      <td>CA-NL</td>\n",
       "      <td>Newfoundland and Labrador</td>\n",
       "      <td>adm1</td>\n",
       "    </tr>\n",
       "  </tbody>\n",
       "</table>\n",
       "</div>"
      ],
      "text/plain": [
       "  actor_id                       name  type\n",
       "0    CA-AB                    Alberta  adm1\n",
       "2    CA-BC           British Columbia  adm1\n",
       "5    CA-MB                   Manitoba  adm1\n",
       "6    CA-NB              New Brunswick  adm1\n",
       "7    CA-NL  Newfoundland and Labrador  adm1"
      ]
     },
     "execution_count": 7,
     "metadata": {},
     "output_type": "execute_result"
    }
   ],
   "source": [
    "df_provinces = client.parts('CA')\n",
    "df_provinces.head()"
   ]
  },
  {
   "cell_type": "markdown",
   "id": "ac3343e4-0b73-41c5-9e6e-dc818c2de229",
   "metadata": {},
   "source": [
    "## 1.4 Get cities in British Columbia\n",
    "The `actor_id` for cities is the UNLOCODE. The first two characters is the country code, then a space, and the three letters are unique to the city. \n",
    "\n",
    "**Note: LOCODES have a space in the middle and ISO-3166-2 subnational actor codes have a dash (-)**"
   ]
  },
  {
   "cell_type": "code",
   "execution_count": 8,
   "id": "8a6bbcf4-3cdc-42f0-8a52-baf6402fc8f4",
   "metadata": {},
   "outputs": [
    {
     "data": {
      "text/html": [
       "<div>\n",
       "<style scoped>\n",
       "    .dataframe tbody tr th:only-of-type {\n",
       "        vertical-align: middle;\n",
       "    }\n",
       "\n",
       "    .dataframe tbody tr th {\n",
       "        vertical-align: top;\n",
       "    }\n",
       "\n",
       "    .dataframe thead th {\n",
       "        text-align: right;\n",
       "    }\n",
       "</style>\n",
       "<table border=\"1\" class=\"dataframe\">\n",
       "  <thead>\n",
       "    <tr style=\"text-align: right;\">\n",
       "      <th></th>\n",
       "      <th>actor_id</th>\n",
       "      <th>name</th>\n",
       "      <th>type</th>\n",
       "    </tr>\n",
       "  </thead>\n",
       "  <tbody>\n",
       "    <tr>\n",
       "      <th>60</th>\n",
       "      <td>CA 5DV</td>\n",
       "      <td>Clive</td>\n",
       "      <td>city</td>\n",
       "    </tr>\n",
       "    <tr>\n",
       "      <th>150</th>\n",
       "      <td>CA AAB</td>\n",
       "      <td>Lac La Biche</td>\n",
       "      <td>city</td>\n",
       "    </tr>\n",
       "    <tr>\n",
       "      <th>223</th>\n",
       "      <td>CA ABR</td>\n",
       "      <td>Rocky View County</td>\n",
       "      <td>city</td>\n",
       "    </tr>\n",
       "    <tr>\n",
       "      <th>169</th>\n",
       "      <td>CA AEO</td>\n",
       "      <td>Ma-Ma-O Beach</td>\n",
       "      <td>city</td>\n",
       "    </tr>\n",
       "    <tr>\n",
       "      <th>1</th>\n",
       "      <td>CA AHN</td>\n",
       "      <td>Acheson</td>\n",
       "      <td>city</td>\n",
       "    </tr>\n",
       "  </tbody>\n",
       "</table>\n",
       "</div>"
      ],
      "text/plain": [
       "    actor_id               name  type\n",
       "60    CA 5DV              Clive  city\n",
       "150   CA AAB       Lac La Biche  city\n",
       "223   CA ABR  Rocky View County  city\n",
       "169   CA AEO      Ma-Ma-O Beach  city\n",
       "1     CA AHN            Acheson  city"
      ]
     },
     "execution_count": 8,
     "metadata": {},
     "output_type": "execute_result"
    }
   ],
   "source": [
    "df_cities = client.parts('CA-AB')\n",
    "df_cities.head()"
   ]
  },
  {
   "cell_type": "markdown",
   "id": "4761c95c-bcbd-48ac-850d-3011724f72f5",
   "metadata": {
    "tags": []
   },
   "source": [
    "# 2. Get emissions data\n",
    "Use the `.emissions(actor_id)` method and supply the `actor_id` as a parameter"
   ]
  },
  {
   "cell_type": "code",
   "execution_count": 9,
   "id": "26c25490-40ed-4144-8bcf-c898da4c67bf",
   "metadata": {},
   "outputs": [
    {
     "data": {
      "text/html": [
       "<div>\n",
       "<style scoped>\n",
       "    .dataframe tbody tr th:only-of-type {\n",
       "        vertical-align: middle;\n",
       "    }\n",
       "\n",
       "    .dataframe tbody tr th {\n",
       "        vertical-align: top;\n",
       "    }\n",
       "\n",
       "    .dataframe thead th {\n",
       "        text-align: right;\n",
       "    }\n",
       "</style>\n",
       "<table border=\"1\" class=\"dataframe\">\n",
       "  <thead>\n",
       "    <tr style=\"text-align: right;\">\n",
       "      <th></th>\n",
       "      <th>emissions_id</th>\n",
       "      <th>total_emissions</th>\n",
       "      <th>year</th>\n",
       "      <th>tags</th>\n",
       "      <th>dataset</th>\n",
       "    </tr>\n",
       "  </thead>\n",
       "  <tbody>\n",
       "    <tr>\n",
       "      <th>271</th>\n",
       "      <td>PRIMAP-hist_v2.4_ne:CA:1750</td>\n",
       "      <td>936000</td>\n",
       "      <td>1750</td>\n",
       "      <td>[]</td>\n",
       "      <td>PRIMAP-hist_v2.4_ne</td>\n",
       "    </tr>\n",
       "    <tr>\n",
       "      <th>270</th>\n",
       "      <td>PRIMAP-hist_v2.4_ne:CA:1751</td>\n",
       "      <td>962000</td>\n",
       "      <td>1751</td>\n",
       "      <td>[]</td>\n",
       "      <td>PRIMAP-hist_v2.4_ne</td>\n",
       "    </tr>\n",
       "    <tr>\n",
       "      <th>269</th>\n",
       "      <td>PRIMAP-hist_v2.4_ne:CA:1752</td>\n",
       "      <td>988000</td>\n",
       "      <td>1752</td>\n",
       "      <td>[]</td>\n",
       "      <td>PRIMAP-hist_v2.4_ne</td>\n",
       "    </tr>\n",
       "    <tr>\n",
       "      <th>268</th>\n",
       "      <td>PRIMAP-hist_v2.4_ne:CA:1753</td>\n",
       "      <td>1010000</td>\n",
       "      <td>1753</td>\n",
       "      <td>[]</td>\n",
       "      <td>PRIMAP-hist_v2.4_ne</td>\n",
       "    </tr>\n",
       "    <tr>\n",
       "      <th>267</th>\n",
       "      <td>PRIMAP-hist_v2.4_ne:CA:1754</td>\n",
       "      <td>1040000</td>\n",
       "      <td>1754</td>\n",
       "      <td>[]</td>\n",
       "      <td>PRIMAP-hist_v2.4_ne</td>\n",
       "    </tr>\n",
       "  </tbody>\n",
       "</table>\n",
       "</div>"
      ],
      "text/plain": [
       "                    emissions_id  total_emissions  year tags  \\\n",
       "271  PRIMAP-hist_v2.4_ne:CA:1750           936000  1750   []   \n",
       "270  PRIMAP-hist_v2.4_ne:CA:1751           962000  1751   []   \n",
       "269  PRIMAP-hist_v2.4_ne:CA:1752           988000  1752   []   \n",
       "268  PRIMAP-hist_v2.4_ne:CA:1753          1010000  1753   []   \n",
       "267  PRIMAP-hist_v2.4_ne:CA:1754          1040000  1754   []   \n",
       "\n",
       "                 dataset  \n",
       "271  PRIMAP-hist_v2.4_ne  \n",
       "270  PRIMAP-hist_v2.4_ne  \n",
       "269  PRIMAP-hist_v2.4_ne  \n",
       "268  PRIMAP-hist_v2.4_ne  \n",
       "267  PRIMAP-hist_v2.4_ne  "
      ]
     },
     "execution_count": 9,
     "metadata": {},
     "output_type": "execute_result"
    }
   ],
   "source": [
    "df_CA_emissions = client.emissions('CA')\n",
    "df_CA_emissions.head()"
   ]
  },
  {
   "cell_type": "markdown",
   "id": "919c2f07-1b88-4cf8-ae8f-d6978f6d5fc3",
   "metadata": {},
   "source": [
    "## 2.1 datasets available"
   ]
  },
  {
   "cell_type": "code",
   "execution_count": 10,
   "id": "62e66f15-b2ec-4b78-a24c-b648aa9fdf07",
   "metadata": {},
   "outputs": [
    {
     "data": {
      "text/plain": [
       "{'PRIMAP-hist_v2.4_ne', 'UNFCCC-annex1-GHG'}"
      ]
     },
     "execution_count": 10,
     "metadata": {},
     "output_type": "execute_result"
    }
   ],
   "source": [
    "set(df_CA_emissions['dataset'])"
   ]
  },
  {
   "cell_type": "markdown",
   "id": "8bdc4781-336a-491e-b397-bb122aebb257",
   "metadata": {
    "tags": []
   },
   "source": [
    "# 3. Actor population and GDP"
   ]
  },
  {
   "cell_type": "code",
   "execution_count": 11,
   "id": "1954f205-9b73-44cd-9e55-f84d9b4b29f0",
   "metadata": {},
   "outputs": [],
   "source": [
    "df_CA_population = client.population('CA')\n",
    "df_CA_gdp = client.gdp('CA')"
   ]
  },
  {
   "cell_type": "code",
   "execution_count": 12,
   "id": "13ecadac-a5e9-4082-a9e5-aaabd0a1117f",
   "metadata": {},
   "outputs": [
    {
     "data": {
      "text/html": [
       "<div>\n",
       "<style scoped>\n",
       "    .dataframe tbody tr th:only-of-type {\n",
       "        vertical-align: middle;\n",
       "    }\n",
       "\n",
       "    .dataframe tbody tr th {\n",
       "        vertical-align: top;\n",
       "    }\n",
       "\n",
       "    .dataframe thead th {\n",
       "        text-align: right;\n",
       "    }\n",
       "</style>\n",
       "<table border=\"1\" class=\"dataframe\">\n",
       "  <thead>\n",
       "    <tr style=\"text-align: right;\">\n",
       "      <th></th>\n",
       "      <th>population</th>\n",
       "      <th>year</th>\n",
       "      <th>datasource_id</th>\n",
       "      <th>datasource</th>\n",
       "    </tr>\n",
       "  </thead>\n",
       "  <tbody>\n",
       "    <tr>\n",
       "      <th>72</th>\n",
       "      <td>13743069</td>\n",
       "      <td>1950</td>\n",
       "      <td>UN_DESA_PD:WorldPopulation:v2022</td>\n",
       "      <td>{'datasource_id': 'UN_DESA_PD:WorldPopulation:...</td>\n",
       "    </tr>\n",
       "    <tr>\n",
       "      <th>71</th>\n",
       "      <td>14085724</td>\n",
       "      <td>1951</td>\n",
       "      <td>UN_DESA_PD:WorldPopulation:v2022</td>\n",
       "      <td>{'datasource_id': 'UN_DESA_PD:WorldPopulation:...</td>\n",
       "    </tr>\n",
       "    <tr>\n",
       "      <th>70</th>\n",
       "      <td>14485745</td>\n",
       "      <td>1952</td>\n",
       "      <td>UN_DESA_PD:WorldPopulation:v2022</td>\n",
       "      <td>{'datasource_id': 'UN_DESA_PD:WorldPopulation:...</td>\n",
       "    </tr>\n",
       "    <tr>\n",
       "      <th>69</th>\n",
       "      <td>14901525</td>\n",
       "      <td>1953</td>\n",
       "      <td>UN_DESA_PD:WorldPopulation:v2022</td>\n",
       "      <td>{'datasource_id': 'UN_DESA_PD:WorldPopulation:...</td>\n",
       "    </tr>\n",
       "    <tr>\n",
       "      <th>68</th>\n",
       "      <td>15323202</td>\n",
       "      <td>1954</td>\n",
       "      <td>UN_DESA_PD:WorldPopulation:v2022</td>\n",
       "      <td>{'datasource_id': 'UN_DESA_PD:WorldPopulation:...</td>\n",
       "    </tr>\n",
       "  </tbody>\n",
       "</table>\n",
       "</div>"
      ],
      "text/plain": [
       "    population  year                     datasource_id  \\\n",
       "72    13743069  1950  UN_DESA_PD:WorldPopulation:v2022   \n",
       "71    14085724  1951  UN_DESA_PD:WorldPopulation:v2022   \n",
       "70    14485745  1952  UN_DESA_PD:WorldPopulation:v2022   \n",
       "69    14901525  1953  UN_DESA_PD:WorldPopulation:v2022   \n",
       "68    15323202  1954  UN_DESA_PD:WorldPopulation:v2022   \n",
       "\n",
       "                                           datasource  \n",
       "72  {'datasource_id': 'UN_DESA_PD:WorldPopulation:...  \n",
       "71  {'datasource_id': 'UN_DESA_PD:WorldPopulation:...  \n",
       "70  {'datasource_id': 'UN_DESA_PD:WorldPopulation:...  \n",
       "69  {'datasource_id': 'UN_DESA_PD:WorldPopulation:...  \n",
       "68  {'datasource_id': 'UN_DESA_PD:WorldPopulation:...  "
      ]
     },
     "execution_count": 12,
     "metadata": {},
     "output_type": "execute_result"
    }
   ],
   "source": [
    "df_CA_population.head()"
   ]
  },
  {
   "cell_type": "code",
   "execution_count": 13,
   "id": "474931cd-553c-47ab-a276-5a8af12abd07",
   "metadata": {},
   "outputs": [
    {
     "data": {
      "text/html": [
       "<div>\n",
       "<style scoped>\n",
       "    .dataframe tbody tr th:only-of-type {\n",
       "        vertical-align: middle;\n",
       "    }\n",
       "\n",
       "    .dataframe tbody tr th {\n",
       "        vertical-align: top;\n",
       "    }\n",
       "\n",
       "    .dataframe thead th {\n",
       "        text-align: right;\n",
       "    }\n",
       "</style>\n",
       "<table border=\"1\" class=\"dataframe\">\n",
       "  <thead>\n",
       "    <tr style=\"text-align: right;\">\n",
       "      <th></th>\n",
       "      <th>gdp</th>\n",
       "      <th>year</th>\n",
       "      <th>datasource_id</th>\n",
       "      <th>datasource</th>\n",
       "    </tr>\n",
       "  </thead>\n",
       "  <tbody>\n",
       "    <tr>\n",
       "      <th>41</th>\n",
       "      <td>276064000000</td>\n",
       "      <td>1980</td>\n",
       "      <td>IMF:WEO202211</td>\n",
       "      <td>{'datasource_id': 'IMF:WEO202211', 'name': 'Wo...</td>\n",
       "    </tr>\n",
       "    <tr>\n",
       "      <th>40</th>\n",
       "      <td>307246000000</td>\n",
       "      <td>1981</td>\n",
       "      <td>IMF:WEO202211</td>\n",
       "      <td>{'datasource_id': 'IMF:WEO202211', 'name': 'Wo...</td>\n",
       "    </tr>\n",
       "    <tr>\n",
       "      <th>39</th>\n",
       "      <td>314639000000</td>\n",
       "      <td>1982</td>\n",
       "      <td>IMF:WEO202211</td>\n",
       "      <td>{'datasource_id': 'IMF:WEO202211', 'name': 'Wo...</td>\n",
       "    </tr>\n",
       "    <tr>\n",
       "      <th>38</th>\n",
       "      <td>341863000000</td>\n",
       "      <td>1983</td>\n",
       "      <td>IMF:WEO202211</td>\n",
       "      <td>{'datasource_id': 'IMF:WEO202211', 'name': 'Wo...</td>\n",
       "    </tr>\n",
       "    <tr>\n",
       "      <th>37</th>\n",
       "      <td>356728000000</td>\n",
       "      <td>1984</td>\n",
       "      <td>IMF:WEO202211</td>\n",
       "      <td>{'datasource_id': 'IMF:WEO202211', 'name': 'Wo...</td>\n",
       "    </tr>\n",
       "  </tbody>\n",
       "</table>\n",
       "</div>"
      ],
      "text/plain": [
       "             gdp  year  datasource_id  \\\n",
       "41  276064000000  1980  IMF:WEO202211   \n",
       "40  307246000000  1981  IMF:WEO202211   \n",
       "39  314639000000  1982  IMF:WEO202211   \n",
       "38  341863000000  1983  IMF:WEO202211   \n",
       "37  356728000000  1984  IMF:WEO202211   \n",
       "\n",
       "                                           datasource  \n",
       "41  {'datasource_id': 'IMF:WEO202211', 'name': 'Wo...  \n",
       "40  {'datasource_id': 'IMF:WEO202211', 'name': 'Wo...  \n",
       "39  {'datasource_id': 'IMF:WEO202211', 'name': 'Wo...  \n",
       "38  {'datasource_id': 'IMF:WEO202211', 'name': 'Wo...  \n",
       "37  {'datasource_id': 'IMF:WEO202211', 'name': 'Wo...  "
      ]
     },
     "execution_count": 13,
     "metadata": {},
     "output_type": "execute_result"
    }
   ],
   "source": [
    "df_CA_gdp.head()"
   ]
  },
  {
   "cell_type": "markdown",
   "id": "27d7fce7-b04f-49c4-bb57-e1533562da9b",
   "metadata": {},
   "source": [
    "## 3.1 expand datasource information"
   ]
  },
  {
   "cell_type": "code",
   "execution_count": 14,
   "id": "2ed91d3a-d5e4-4a37-9972-692e727c209c",
   "metadata": {},
   "outputs": [
    {
     "data": {
      "text/plain": [
       "{'IMF:WEO202211'}"
      ]
     },
     "execution_count": 14,
     "metadata": {},
     "output_type": "execute_result"
    }
   ],
   "source": [
    "# there is only one datasource for this information\n",
    "set(df_CA_gdp['datasource_id'])"
   ]
  },
  {
   "cell_type": "code",
   "execution_count": 15,
   "id": "d2a54ef3-5b22-4213-bb35-d54ec7ae0555",
   "metadata": {},
   "outputs": [
    {
     "data": {
      "text/html": [
       "<div>\n",
       "<style scoped>\n",
       "    .dataframe tbody tr th:only-of-type {\n",
       "        vertical-align: middle;\n",
       "    }\n",
       "\n",
       "    .dataframe tbody tr th {\n",
       "        vertical-align: top;\n",
       "    }\n",
       "\n",
       "    .dataframe thead th {\n",
       "        text-align: right;\n",
       "    }\n",
       "</style>\n",
       "<table border=\"1\" class=\"dataframe\">\n",
       "  <thead>\n",
       "    <tr style=\"text-align: right;\">\n",
       "      <th></th>\n",
       "      <th>datasource_id</th>\n",
       "      <th>name</th>\n",
       "      <th>published</th>\n",
       "      <th>URL</th>\n",
       "    </tr>\n",
       "  </thead>\n",
       "  <tbody>\n",
       "    <tr>\n",
       "      <th>0</th>\n",
       "      <td>IMF:WEO202211</td>\n",
       "      <td>World Economic Outlook (October 2022)</td>\n",
       "      <td>2022-11-01T00:00:00.000Z</td>\n",
       "      <td>https://www.imf.org/external/datamapper/NGDPD@...</td>\n",
       "    </tr>\n",
       "  </tbody>\n",
       "</table>\n",
       "</div>"
      ],
      "text/plain": [
       "   datasource_id                                   name  \\\n",
       "0  IMF:WEO202211  World Economic Outlook (October 2022)   \n",
       "\n",
       "                  published                                                URL  \n",
       "0  2022-11-01T00:00:00.000Z  https://www.imf.org/external/datamapper/NGDPD@...  "
      ]
     },
     "execution_count": 15,
     "metadata": {},
     "output_type": "execute_result"
    }
   ],
   "source": [
    "# show datasource information in a dataframe\n",
    "df_CA_gdp_datasource = pd.json_normalize(df_CA_gdp['datasource'].drop_duplicates())\n",
    "df_CA_gdp_datasource.head()"
   ]
  }
 ],
 "metadata": {
  "kernelspec": {
   "display_name": "digs",
   "language": "python",
   "name": "digs"
  },
  "language_info": {
   "codemirror_mode": {
    "name": "ipython",
    "version": 3
   },
   "file_extension": ".py",
   "mimetype": "text/x-python",
   "name": "python",
   "nbconvert_exporter": "python",
   "pygments_lexer": "ipython3",
   "version": "3.10.6"
  }
 },
 "nbformat": 4,
 "nbformat_minor": 5
}
